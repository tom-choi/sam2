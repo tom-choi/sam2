{
 "cells": [
  {
   "cell_type": "code",
   "execution_count": 1,
   "metadata": {},
   "outputs": [],
   "source": [
    "import torch\n",
    "import numpy as np\n",
    "import matplotlib.pyplot as plt\n",
    "import torch.nn as nn\n",
    "\n",
    "# 自定义的函数模块\n",
    "from functions.data import prepare_dataset\n",
    "from functions.model import UNet"
   ]
  },
  {
   "cell_type": "code",
   "execution_count": 2,
   "metadata": {},
   "outputs": [
    {
     "name": "stdout",
     "output_type": "stream",
     "text": [
      "Train Data (Lucchi++): [{'image': 'dataset\\\\Lucchi++\\\\Train_In\\\\mask0000.png', 'annotation': 'dataset\\\\Lucchi++\\\\Train_Out\\\\0.png', 'index': 0}, {'image': 'dataset\\\\Lucchi++\\\\Train_In\\\\mask0001.png', 'annotation': 'dataset\\\\Lucchi++\\\\Train_Out\\\\1.png', 'index': 1}, {'image': 'dataset\\\\Lucchi++\\\\Train_In\\\\mask0002.png', 'annotation': 'dataset\\\\Lucchi++\\\\Train_Out\\\\2.png', 'index': 2}, {'image': 'dataset\\\\Lucchi++\\\\Train_In\\\\mask0003.png', 'annotation': 'dataset\\\\Lucchi++\\\\Train_Out\\\\3.png', 'index': 3}, {'image': 'dataset\\\\Lucchi++\\\\Train_In\\\\mask0004.png', 'annotation': 'dataset\\\\Lucchi++\\\\Train_Out\\\\4.png', 'index': 4}, {'image': 'dataset\\\\Lucchi++\\\\Train_In\\\\mask0005.png', 'annotation': 'dataset\\\\Lucchi++\\\\Train_Out\\\\5.png', 'index': 5}, {'image': 'dataset\\\\Lucchi++\\\\Train_In\\\\mask0006.png', 'annotation': 'dataset\\\\Lucchi++\\\\Train_Out\\\\6.png', 'index': 6}, {'image': 'dataset\\\\Lucchi++\\\\Train_In\\\\mask0007.png', 'annotation': 'dataset\\\\Lucchi++\\\\Train_Out\\\\7.png', 'index': 7}, {'image': 'dataset\\\\Lucchi++\\\\Train_In\\\\mask0008.png', 'annotation': 'dataset\\\\Lucchi++\\\\Train_Out\\\\8.png', 'index': 8}, {'image': 'dataset\\\\Lucchi++\\\\Train_In\\\\mask0009.png', 'annotation': 'dataset\\\\Lucchi++\\\\Train_Out\\\\9.png', 'index': 9}, {'image': 'dataset\\\\Lucchi++\\\\Train_In\\\\mask0010.png', 'annotation': 'dataset\\\\Lucchi++\\\\Train_Out\\\\10.png', 'index': 10}, {'image': 'dataset\\\\Lucchi++\\\\Train_In\\\\mask0011.png', 'annotation': 'dataset\\\\Lucchi++\\\\Train_Out\\\\11.png', 'index': 11}, {'image': 'dataset\\\\Lucchi++\\\\Train_In\\\\mask0012.png', 'annotation': 'dataset\\\\Lucchi++\\\\Train_Out\\\\12.png', 'index': 12}, {'image': 'dataset\\\\Lucchi++\\\\Train_In\\\\mask0013.png', 'annotation': 'dataset\\\\Lucchi++\\\\Train_Out\\\\13.png', 'index': 13}, {'image': 'dataset\\\\Lucchi++\\\\Train_In\\\\mask0014.png', 'annotation': 'dataset\\\\Lucchi++\\\\Train_Out\\\\14.png', 'index': 14}, {'image': 'dataset\\\\Lucchi++\\\\Train_In\\\\mask0015.png', 'annotation': 'dataset\\\\Lucchi++\\\\Train_Out\\\\15.png', 'index': 15}, {'image': 'dataset\\\\Lucchi++\\\\Train_In\\\\mask0016.png', 'annotation': 'dataset\\\\Lucchi++\\\\Train_Out\\\\16.png', 'index': 16}, {'image': 'dataset\\\\Lucchi++\\\\Train_In\\\\mask0017.png', 'annotation': 'dataset\\\\Lucchi++\\\\Train_Out\\\\17.png', 'index': 17}, {'image': 'dataset\\\\Lucchi++\\\\Train_In\\\\mask0018.png', 'annotation': 'dataset\\\\Lucchi++\\\\Train_Out\\\\18.png', 'index': 18}, {'image': 'dataset\\\\Lucchi++\\\\Train_In\\\\mask0019.png', 'annotation': 'dataset\\\\Lucchi++\\\\Train_Out\\\\19.png', 'index': 19}, {'image': 'dataset\\\\Lucchi++\\\\Train_In\\\\mask0020.png', 'annotation': 'dataset\\\\Lucchi++\\\\Train_Out\\\\20.png', 'index': 20}, {'image': 'dataset\\\\Lucchi++\\\\Train_In\\\\mask0021.png', 'annotation': 'dataset\\\\Lucchi++\\\\Train_Out\\\\21.png', 'index': 21}, {'image': 'dataset\\\\Lucchi++\\\\Train_In\\\\mask0022.png', 'annotation': 'dataset\\\\Lucchi++\\\\Train_Out\\\\22.png', 'index': 22}, {'image': 'dataset\\\\Lucchi++\\\\Train_In\\\\mask0023.png', 'annotation': 'dataset\\\\Lucchi++\\\\Train_Out\\\\23.png', 'index': 23}, {'image': 'dataset\\\\Lucchi++\\\\Train_In\\\\mask0024.png', 'annotation': 'dataset\\\\Lucchi++\\\\Train_Out\\\\24.png', 'index': 24}, {'image': 'dataset\\\\Lucchi++\\\\Train_In\\\\mask0025.png', 'annotation': 'dataset\\\\Lucchi++\\\\Train_Out\\\\25.png', 'index': 25}, {'image': 'dataset\\\\Lucchi++\\\\Train_In\\\\mask0026.png', 'annotation': 'dataset\\\\Lucchi++\\\\Train_Out\\\\26.png', 'index': 26}, {'image': 'dataset\\\\Lucchi++\\\\Train_In\\\\mask0027.png', 'annotation': 'dataset\\\\Lucchi++\\\\Train_Out\\\\27.png', 'index': 27}, {'image': 'dataset\\\\Lucchi++\\\\Train_In\\\\mask0028.png', 'annotation': 'dataset\\\\Lucchi++\\\\Train_Out\\\\28.png', 'index': 28}, {'image': 'dataset\\\\Lucchi++\\\\Train_In\\\\mask0029.png', 'annotation': 'dataset\\\\Lucchi++\\\\Train_Out\\\\29.png', 'index': 29}, {'image': 'dataset\\\\Lucchi++\\\\Train_In\\\\mask0030.png', 'annotation': 'dataset\\\\Lucchi++\\\\Train_Out\\\\30.png', 'index': 30}, {'image': 'dataset\\\\Lucchi++\\\\Train_In\\\\mask0031.png', 'annotation': 'dataset\\\\Lucchi++\\\\Train_Out\\\\31.png', 'index': 31}, {'image': 'dataset\\\\Lucchi++\\\\Train_In\\\\mask0032.png', 'annotation': 'dataset\\\\Lucchi++\\\\Train_Out\\\\32.png', 'index': 32}, {'image': 'dataset\\\\Lucchi++\\\\Train_In\\\\mask0033.png', 'annotation': 'dataset\\\\Lucchi++\\\\Train_Out\\\\33.png', 'index': 33}, {'image': 'dataset\\\\Lucchi++\\\\Train_In\\\\mask0034.png', 'annotation': 'dataset\\\\Lucchi++\\\\Train_Out\\\\34.png', 'index': 34}, {'image': 'dataset\\\\Lucchi++\\\\Train_In\\\\mask0035.png', 'annotation': 'dataset\\\\Lucchi++\\\\Train_Out\\\\35.png', 'index': 35}, {'image': 'dataset\\\\Lucchi++\\\\Train_In\\\\mask0036.png', 'annotation': 'dataset\\\\Lucchi++\\\\Train_Out\\\\36.png', 'index': 36}, {'image': 'dataset\\\\Lucchi++\\\\Train_In\\\\mask0037.png', 'annotation': 'dataset\\\\Lucchi++\\\\Train_Out\\\\37.png', 'index': 37}, {'image': 'dataset\\\\Lucchi++\\\\Train_In\\\\mask0038.png', 'annotation': 'dataset\\\\Lucchi++\\\\Train_Out\\\\38.png', 'index': 38}, {'image': 'dataset\\\\Lucchi++\\\\Train_In\\\\mask0039.png', 'annotation': 'dataset\\\\Lucchi++\\\\Train_Out\\\\39.png', 'index': 39}, {'image': 'dataset\\\\Lucchi++\\\\Train_In\\\\mask0040.png', 'annotation': 'dataset\\\\Lucchi++\\\\Train_Out\\\\40.png', 'index': 40}, {'image': 'dataset\\\\Lucchi++\\\\Train_In\\\\mask0041.png', 'annotation': 'dataset\\\\Lucchi++\\\\Train_Out\\\\41.png', 'index': 41}, {'image': 'dataset\\\\Lucchi++\\\\Train_In\\\\mask0042.png', 'annotation': 'dataset\\\\Lucchi++\\\\Train_Out\\\\42.png', 'index': 42}, {'image': 'dataset\\\\Lucchi++\\\\Train_In\\\\mask0043.png', 'annotation': 'dataset\\\\Lucchi++\\\\Train_Out\\\\43.png', 'index': 43}, {'image': 'dataset\\\\Lucchi++\\\\Train_In\\\\mask0044.png', 'annotation': 'dataset\\\\Lucchi++\\\\Train_Out\\\\44.png', 'index': 44}, {'image': 'dataset\\\\Lucchi++\\\\Train_In\\\\mask0045.png', 'annotation': 'dataset\\\\Lucchi++\\\\Train_Out\\\\45.png', 'index': 45}, {'image': 'dataset\\\\Lucchi++\\\\Train_In\\\\mask0046.png', 'annotation': 'dataset\\\\Lucchi++\\\\Train_Out\\\\46.png', 'index': 46}, {'image': 'dataset\\\\Lucchi++\\\\Train_In\\\\mask0047.png', 'annotation': 'dataset\\\\Lucchi++\\\\Train_Out\\\\47.png', 'index': 47}, {'image': 'dataset\\\\Lucchi++\\\\Train_In\\\\mask0048.png', 'annotation': 'dataset\\\\Lucchi++\\\\Train_Out\\\\48.png', 'index': 48}, {'image': 'dataset\\\\Lucchi++\\\\Train_In\\\\mask0049.png', 'annotation': 'dataset\\\\Lucchi++\\\\Train_Out\\\\49.png', 'index': 49}, {'image': 'dataset\\\\Lucchi++\\\\Train_In\\\\mask0050.png', 'annotation': 'dataset\\\\Lucchi++\\\\Train_Out\\\\50.png', 'index': 50}, {'image': 'dataset\\\\Lucchi++\\\\Train_In\\\\mask0051.png', 'annotation': 'dataset\\\\Lucchi++\\\\Train_Out\\\\51.png', 'index': 51}, {'image': 'dataset\\\\Lucchi++\\\\Train_In\\\\mask0052.png', 'annotation': 'dataset\\\\Lucchi++\\\\Train_Out\\\\52.png', 'index': 52}, {'image': 'dataset\\\\Lucchi++\\\\Train_In\\\\mask0053.png', 'annotation': 'dataset\\\\Lucchi++\\\\Train_Out\\\\53.png', 'index': 53}, {'image': 'dataset\\\\Lucchi++\\\\Train_In\\\\mask0054.png', 'annotation': 'dataset\\\\Lucchi++\\\\Train_Out\\\\54.png', 'index': 54}, {'image': 'dataset\\\\Lucchi++\\\\Train_In\\\\mask0055.png', 'annotation': 'dataset\\\\Lucchi++\\\\Train_Out\\\\55.png', 'index': 55}, {'image': 'dataset\\\\Lucchi++\\\\Train_In\\\\mask0056.png', 'annotation': 'dataset\\\\Lucchi++\\\\Train_Out\\\\56.png', 'index': 56}, {'image': 'dataset\\\\Lucchi++\\\\Train_In\\\\mask0057.png', 'annotation': 'dataset\\\\Lucchi++\\\\Train_Out\\\\57.png', 'index': 57}, {'image': 'dataset\\\\Lucchi++\\\\Train_In\\\\mask0058.png', 'annotation': 'dataset\\\\Lucchi++\\\\Train_Out\\\\58.png', 'index': 58}, {'image': 'dataset\\\\Lucchi++\\\\Train_In\\\\mask0059.png', 'annotation': 'dataset\\\\Lucchi++\\\\Train_Out\\\\59.png', 'index': 59}, {'image': 'dataset\\\\Lucchi++\\\\Train_In\\\\mask0060.png', 'annotation': 'dataset\\\\Lucchi++\\\\Train_Out\\\\60.png', 'index': 60}, {'image': 'dataset\\\\Lucchi++\\\\Train_In\\\\mask0061.png', 'annotation': 'dataset\\\\Lucchi++\\\\Train_Out\\\\61.png', 'index': 61}, {'image': 'dataset\\\\Lucchi++\\\\Train_In\\\\mask0062.png', 'annotation': 'dataset\\\\Lucchi++\\\\Train_Out\\\\62.png', 'index': 62}, {'image': 'dataset\\\\Lucchi++\\\\Train_In\\\\mask0063.png', 'annotation': 'dataset\\\\Lucchi++\\\\Train_Out\\\\63.png', 'index': 63}, {'image': 'dataset\\\\Lucchi++\\\\Train_In\\\\mask0064.png', 'annotation': 'dataset\\\\Lucchi++\\\\Train_Out\\\\64.png', 'index': 64}, {'image': 'dataset\\\\Lucchi++\\\\Train_In\\\\mask0065.png', 'annotation': 'dataset\\\\Lucchi++\\\\Train_Out\\\\65.png', 'index': 65}, {'image': 'dataset\\\\Lucchi++\\\\Train_In\\\\mask0066.png', 'annotation': 'dataset\\\\Lucchi++\\\\Train_Out\\\\66.png', 'index': 66}, {'image': 'dataset\\\\Lucchi++\\\\Train_In\\\\mask0067.png', 'annotation': 'dataset\\\\Lucchi++\\\\Train_Out\\\\67.png', 'index': 67}, {'image': 'dataset\\\\Lucchi++\\\\Train_In\\\\mask0068.png', 'annotation': 'dataset\\\\Lucchi++\\\\Train_Out\\\\68.png', 'index': 68}, {'image': 'dataset\\\\Lucchi++\\\\Train_In\\\\mask0069.png', 'annotation': 'dataset\\\\Lucchi++\\\\Train_Out\\\\69.png', 'index': 69}, {'image': 'dataset\\\\Lucchi++\\\\Train_In\\\\mask0070.png', 'annotation': 'dataset\\\\Lucchi++\\\\Train_Out\\\\70.png', 'index': 70}, {'image': 'dataset\\\\Lucchi++\\\\Train_In\\\\mask0071.png', 'annotation': 'dataset\\\\Lucchi++\\\\Train_Out\\\\71.png', 'index': 71}, {'image': 'dataset\\\\Lucchi++\\\\Train_In\\\\mask0072.png', 'annotation': 'dataset\\\\Lucchi++\\\\Train_Out\\\\72.png', 'index': 72}, {'image': 'dataset\\\\Lucchi++\\\\Train_In\\\\mask0073.png', 'annotation': 'dataset\\\\Lucchi++\\\\Train_Out\\\\73.png', 'index': 73}, {'image': 'dataset\\\\Lucchi++\\\\Train_In\\\\mask0074.png', 'annotation': 'dataset\\\\Lucchi++\\\\Train_Out\\\\74.png', 'index': 74}, {'image': 'dataset\\\\Lucchi++\\\\Train_In\\\\mask0075.png', 'annotation': 'dataset\\\\Lucchi++\\\\Train_Out\\\\75.png', 'index': 75}, {'image': 'dataset\\\\Lucchi++\\\\Train_In\\\\mask0076.png', 'annotation': 'dataset\\\\Lucchi++\\\\Train_Out\\\\76.png', 'index': 76}, {'image': 'dataset\\\\Lucchi++\\\\Train_In\\\\mask0077.png', 'annotation': 'dataset\\\\Lucchi++\\\\Train_Out\\\\77.png', 'index': 77}, {'image': 'dataset\\\\Lucchi++\\\\Train_In\\\\mask0078.png', 'annotation': 'dataset\\\\Lucchi++\\\\Train_Out\\\\78.png', 'index': 78}, {'image': 'dataset\\\\Lucchi++\\\\Train_In\\\\mask0079.png', 'annotation': 'dataset\\\\Lucchi++\\\\Train_Out\\\\79.png', 'index': 79}, {'image': 'dataset\\\\Lucchi++\\\\Train_In\\\\mask0080.png', 'annotation': 'dataset\\\\Lucchi++\\\\Train_Out\\\\80.png', 'index': 80}, {'image': 'dataset\\\\Lucchi++\\\\Train_In\\\\mask0081.png', 'annotation': 'dataset\\\\Lucchi++\\\\Train_Out\\\\81.png', 'index': 81}, {'image': 'dataset\\\\Lucchi++\\\\Train_In\\\\mask0082.png', 'annotation': 'dataset\\\\Lucchi++\\\\Train_Out\\\\82.png', 'index': 82}, {'image': 'dataset\\\\Lucchi++\\\\Train_In\\\\mask0083.png', 'annotation': 'dataset\\\\Lucchi++\\\\Train_Out\\\\83.png', 'index': 83}, {'image': 'dataset\\\\Lucchi++\\\\Train_In\\\\mask0084.png', 'annotation': 'dataset\\\\Lucchi++\\\\Train_Out\\\\84.png', 'index': 84}, {'image': 'dataset\\\\Lucchi++\\\\Train_In\\\\mask0085.png', 'annotation': 'dataset\\\\Lucchi++\\\\Train_Out\\\\85.png', 'index': 85}, {'image': 'dataset\\\\Lucchi++\\\\Train_In\\\\mask0086.png', 'annotation': 'dataset\\\\Lucchi++\\\\Train_Out\\\\86.png', 'index': 86}, {'image': 'dataset\\\\Lucchi++\\\\Train_In\\\\mask0087.png', 'annotation': 'dataset\\\\Lucchi++\\\\Train_Out\\\\87.png', 'index': 87}, {'image': 'dataset\\\\Lucchi++\\\\Train_In\\\\mask0088.png', 'annotation': 'dataset\\\\Lucchi++\\\\Train_Out\\\\88.png', 'index': 88}, {'image': 'dataset\\\\Lucchi++\\\\Train_In\\\\mask0089.png', 'annotation': 'dataset\\\\Lucchi++\\\\Train_Out\\\\89.png', 'index': 89}, {'image': 'dataset\\\\Lucchi++\\\\Train_In\\\\mask0090.png', 'annotation': 'dataset\\\\Lucchi++\\\\Train_Out\\\\90.png', 'index': 90}, {'image': 'dataset\\\\Lucchi++\\\\Train_In\\\\mask0091.png', 'annotation': 'dataset\\\\Lucchi++\\\\Train_Out\\\\91.png', 'index': 91}, {'image': 'dataset\\\\Lucchi++\\\\Train_In\\\\mask0092.png', 'annotation': 'dataset\\\\Lucchi++\\\\Train_Out\\\\92.png', 'index': 92}, {'image': 'dataset\\\\Lucchi++\\\\Train_In\\\\mask0093.png', 'annotation': 'dataset\\\\Lucchi++\\\\Train_Out\\\\93.png', 'index': 93}, {'image': 'dataset\\\\Lucchi++\\\\Train_In\\\\mask0094.png', 'annotation': 'dataset\\\\Lucchi++\\\\Train_Out\\\\94.png', 'index': 94}, {'image': 'dataset\\\\Lucchi++\\\\Train_In\\\\mask0095.png', 'annotation': 'dataset\\\\Lucchi++\\\\Train_Out\\\\95.png', 'index': 95}, {'image': 'dataset\\\\Lucchi++\\\\Train_In\\\\mask0096.png', 'annotation': 'dataset\\\\Lucchi++\\\\Train_Out\\\\96.png', 'index': 96}, {'image': 'dataset\\\\Lucchi++\\\\Train_In\\\\mask0097.png', 'annotation': 'dataset\\\\Lucchi++\\\\Train_Out\\\\97.png', 'index': 97}, {'image': 'dataset\\\\Lucchi++\\\\Train_In\\\\mask0098.png', 'annotation': 'dataset\\\\Lucchi++\\\\Train_Out\\\\98.png', 'index': 98}, {'image': 'dataset\\\\Lucchi++\\\\Train_In\\\\mask0099.png', 'annotation': 'dataset\\\\Lucchi++\\\\Train_Out\\\\99.png', 'index': 99}, {'image': 'dataset\\\\Lucchi++\\\\Train_In\\\\mask0100.png', 'annotation': 'dataset\\\\Lucchi++\\\\Train_Out\\\\100.png', 'index': 100}, {'image': 'dataset\\\\Lucchi++\\\\Train_In\\\\mask0101.png', 'annotation': 'dataset\\\\Lucchi++\\\\Train_Out\\\\101.png', 'index': 101}, {'image': 'dataset\\\\Lucchi++\\\\Train_In\\\\mask0102.png', 'annotation': 'dataset\\\\Lucchi++\\\\Train_Out\\\\102.png', 'index': 102}, {'image': 'dataset\\\\Lucchi++\\\\Train_In\\\\mask0103.png', 'annotation': 'dataset\\\\Lucchi++\\\\Train_Out\\\\103.png', 'index': 103}, {'image': 'dataset\\\\Lucchi++\\\\Train_In\\\\mask0104.png', 'annotation': 'dataset\\\\Lucchi++\\\\Train_Out\\\\104.png', 'index': 104}, {'image': 'dataset\\\\Lucchi++\\\\Train_In\\\\mask0105.png', 'annotation': 'dataset\\\\Lucchi++\\\\Train_Out\\\\105.png', 'index': 105}, {'image': 'dataset\\\\Lucchi++\\\\Train_In\\\\mask0106.png', 'annotation': 'dataset\\\\Lucchi++\\\\Train_Out\\\\106.png', 'index': 106}, {'image': 'dataset\\\\Lucchi++\\\\Train_In\\\\mask0107.png', 'annotation': 'dataset\\\\Lucchi++\\\\Train_Out\\\\107.png', 'index': 107}, {'image': 'dataset\\\\Lucchi++\\\\Train_In\\\\mask0108.png', 'annotation': 'dataset\\\\Lucchi++\\\\Train_Out\\\\108.png', 'index': 108}, {'image': 'dataset\\\\Lucchi++\\\\Train_In\\\\mask0109.png', 'annotation': 'dataset\\\\Lucchi++\\\\Train_Out\\\\109.png', 'index': 109}, {'image': 'dataset\\\\Lucchi++\\\\Train_In\\\\mask0110.png', 'annotation': 'dataset\\\\Lucchi++\\\\Train_Out\\\\110.png', 'index': 110}, {'image': 'dataset\\\\Lucchi++\\\\Train_In\\\\mask0111.png', 'annotation': 'dataset\\\\Lucchi++\\\\Train_Out\\\\111.png', 'index': 111}, {'image': 'dataset\\\\Lucchi++\\\\Train_In\\\\mask0112.png', 'annotation': 'dataset\\\\Lucchi++\\\\Train_Out\\\\112.png', 'index': 112}, {'image': 'dataset\\\\Lucchi++\\\\Train_In\\\\mask0113.png', 'annotation': 'dataset\\\\Lucchi++\\\\Train_Out\\\\113.png', 'index': 113}, {'image': 'dataset\\\\Lucchi++\\\\Train_In\\\\mask0114.png', 'annotation': 'dataset\\\\Lucchi++\\\\Train_Out\\\\114.png', 'index': 114}, {'image': 'dataset\\\\Lucchi++\\\\Train_In\\\\mask0115.png', 'annotation': 'dataset\\\\Lucchi++\\\\Train_Out\\\\115.png', 'index': 115}, {'image': 'dataset\\\\Lucchi++\\\\Train_In\\\\mask0116.png', 'annotation': 'dataset\\\\Lucchi++\\\\Train_Out\\\\116.png', 'index': 116}, {'image': 'dataset\\\\Lucchi++\\\\Train_In\\\\mask0117.png', 'annotation': 'dataset\\\\Lucchi++\\\\Train_Out\\\\117.png', 'index': 117}, {'image': 'dataset\\\\Lucchi++\\\\Train_In\\\\mask0118.png', 'annotation': 'dataset\\\\Lucchi++\\\\Train_Out\\\\118.png', 'index': 118}, {'image': 'dataset\\\\Lucchi++\\\\Train_In\\\\mask0119.png', 'annotation': 'dataset\\\\Lucchi++\\\\Train_Out\\\\119.png', 'index': 119}, {'image': 'dataset\\\\Lucchi++\\\\Train_In\\\\mask0120.png', 'annotation': 'dataset\\\\Lucchi++\\\\Train_Out\\\\120.png', 'index': 120}, {'image': 'dataset\\\\Lucchi++\\\\Train_In\\\\mask0121.png', 'annotation': 'dataset\\\\Lucchi++\\\\Train_Out\\\\121.png', 'index': 121}, {'image': 'dataset\\\\Lucchi++\\\\Train_In\\\\mask0122.png', 'annotation': 'dataset\\\\Lucchi++\\\\Train_Out\\\\122.png', 'index': 122}, {'image': 'dataset\\\\Lucchi++\\\\Train_In\\\\mask0123.png', 'annotation': 'dataset\\\\Lucchi++\\\\Train_Out\\\\123.png', 'index': 123}, {'image': 'dataset\\\\Lucchi++\\\\Train_In\\\\mask0124.png', 'annotation': 'dataset\\\\Lucchi++\\\\Train_Out\\\\124.png', 'index': 124}, {'image': 'dataset\\\\Lucchi++\\\\Train_In\\\\mask0125.png', 'annotation': 'dataset\\\\Lucchi++\\\\Train_Out\\\\125.png', 'index': 125}, {'image': 'dataset\\\\Lucchi++\\\\Train_In\\\\mask0126.png', 'annotation': 'dataset\\\\Lucchi++\\\\Train_Out\\\\126.png', 'index': 126}, {'image': 'dataset\\\\Lucchi++\\\\Train_In\\\\mask0127.png', 'annotation': 'dataset\\\\Lucchi++\\\\Train_Out\\\\127.png', 'index': 127}, {'image': 'dataset\\\\Lucchi++\\\\Train_In\\\\mask0128.png', 'annotation': 'dataset\\\\Lucchi++\\\\Train_Out\\\\128.png', 'index': 128}, {'image': 'dataset\\\\Lucchi++\\\\Train_In\\\\mask0129.png', 'annotation': 'dataset\\\\Lucchi++\\\\Train_Out\\\\129.png', 'index': 129}, {'image': 'dataset\\\\Lucchi++\\\\Train_In\\\\mask0130.png', 'annotation': 'dataset\\\\Lucchi++\\\\Train_Out\\\\130.png', 'index': 130}, {'image': 'dataset\\\\Lucchi++\\\\Train_In\\\\mask0131.png', 'annotation': 'dataset\\\\Lucchi++\\\\Train_Out\\\\131.png', 'index': 131}, {'image': 'dataset\\\\Lucchi++\\\\Train_In\\\\mask0132.png', 'annotation': 'dataset\\\\Lucchi++\\\\Train_Out\\\\132.png', 'index': 132}, {'image': 'dataset\\\\Lucchi++\\\\Train_In\\\\mask0133.png', 'annotation': 'dataset\\\\Lucchi++\\\\Train_Out\\\\133.png', 'index': 133}, {'image': 'dataset\\\\Lucchi++\\\\Train_In\\\\mask0134.png', 'annotation': 'dataset\\\\Lucchi++\\\\Train_Out\\\\134.png', 'index': 134}, {'image': 'dataset\\\\Lucchi++\\\\Train_In\\\\mask0135.png', 'annotation': 'dataset\\\\Lucchi++\\\\Train_Out\\\\135.png', 'index': 135}, {'image': 'dataset\\\\Lucchi++\\\\Train_In\\\\mask0136.png', 'annotation': 'dataset\\\\Lucchi++\\\\Train_Out\\\\136.png', 'index': 136}, {'image': 'dataset\\\\Lucchi++\\\\Train_In\\\\mask0137.png', 'annotation': 'dataset\\\\Lucchi++\\\\Train_Out\\\\137.png', 'index': 137}, {'image': 'dataset\\\\Lucchi++\\\\Train_In\\\\mask0138.png', 'annotation': 'dataset\\\\Lucchi++\\\\Train_Out\\\\138.png', 'index': 138}, {'image': 'dataset\\\\Lucchi++\\\\Train_In\\\\mask0139.png', 'annotation': 'dataset\\\\Lucchi++\\\\Train_Out\\\\139.png', 'index': 139}, {'image': 'dataset\\\\Lucchi++\\\\Train_In\\\\mask0140.png', 'annotation': 'dataset\\\\Lucchi++\\\\Train_Out\\\\140.png', 'index': 140}, {'image': 'dataset\\\\Lucchi++\\\\Train_In\\\\mask0141.png', 'annotation': 'dataset\\\\Lucchi++\\\\Train_Out\\\\141.png', 'index': 141}, {'image': 'dataset\\\\Lucchi++\\\\Train_In\\\\mask0142.png', 'annotation': 'dataset\\\\Lucchi++\\\\Train_Out\\\\142.png', 'index': 142}, {'image': 'dataset\\\\Lucchi++\\\\Train_In\\\\mask0143.png', 'annotation': 'dataset\\\\Lucchi++\\\\Train_Out\\\\143.png', 'index': 143}, {'image': 'dataset\\\\Lucchi++\\\\Train_In\\\\mask0144.png', 'annotation': 'dataset\\\\Lucchi++\\\\Train_Out\\\\144.png', 'index': 144}, {'image': 'dataset\\\\Lucchi++\\\\Train_In\\\\mask0145.png', 'annotation': 'dataset\\\\Lucchi++\\\\Train_Out\\\\145.png', 'index': 145}, {'image': 'dataset\\\\Lucchi++\\\\Train_In\\\\mask0146.png', 'annotation': 'dataset\\\\Lucchi++\\\\Train_Out\\\\146.png', 'index': 146}, {'image': 'dataset\\\\Lucchi++\\\\Train_In\\\\mask0147.png', 'annotation': 'dataset\\\\Lucchi++\\\\Train_Out\\\\147.png', 'index': 147}, {'image': 'dataset\\\\Lucchi++\\\\Train_In\\\\mask0148.png', 'annotation': 'dataset\\\\Lucchi++\\\\Train_Out\\\\148.png', 'index': 148}, {'image': 'dataset\\\\Lucchi++\\\\Train_In\\\\mask0149.png', 'annotation': 'dataset\\\\Lucchi++\\\\Train_Out\\\\149.png', 'index': 149}, {'image': 'dataset\\\\Lucchi++\\\\Train_In\\\\mask0150.png', 'annotation': 'dataset\\\\Lucchi++\\\\Train_Out\\\\150.png', 'index': 150}, {'image': 'dataset\\\\Lucchi++\\\\Train_In\\\\mask0151.png', 'annotation': 'dataset\\\\Lucchi++\\\\Train_Out\\\\151.png', 'index': 151}, {'image': 'dataset\\\\Lucchi++\\\\Train_In\\\\mask0152.png', 'annotation': 'dataset\\\\Lucchi++\\\\Train_Out\\\\152.png', 'index': 152}, {'image': 'dataset\\\\Lucchi++\\\\Train_In\\\\mask0153.png', 'annotation': 'dataset\\\\Lucchi++\\\\Train_Out\\\\153.png', 'index': 153}, {'image': 'dataset\\\\Lucchi++\\\\Train_In\\\\mask0154.png', 'annotation': 'dataset\\\\Lucchi++\\\\Train_Out\\\\154.png', 'index': 154}, {'image': 'dataset\\\\Lucchi++\\\\Train_In\\\\mask0155.png', 'annotation': 'dataset\\\\Lucchi++\\\\Train_Out\\\\155.png', 'index': 155}, {'image': 'dataset\\\\Lucchi++\\\\Train_In\\\\mask0156.png', 'annotation': 'dataset\\\\Lucchi++\\\\Train_Out\\\\156.png', 'index': 156}, {'image': 'dataset\\\\Lucchi++\\\\Train_In\\\\mask0157.png', 'annotation': 'dataset\\\\Lucchi++\\\\Train_Out\\\\157.png', 'index': 157}, {'image': 'dataset\\\\Lucchi++\\\\Train_In\\\\mask0158.png', 'annotation': 'dataset\\\\Lucchi++\\\\Train_Out\\\\158.png', 'index': 158}, {'image': 'dataset\\\\Lucchi++\\\\Train_In\\\\mask0159.png', 'annotation': 'dataset\\\\Lucchi++\\\\Train_Out\\\\159.png', 'index': 159}, {'image': 'dataset\\\\Lucchi++\\\\Train_In\\\\mask0160.png', 'annotation': 'dataset\\\\Lucchi++\\\\Train_Out\\\\160.png', 'index': 160}, {'image': 'dataset\\\\Lucchi++\\\\Train_In\\\\mask0161.png', 'annotation': 'dataset\\\\Lucchi++\\\\Train_Out\\\\161.png', 'index': 161}, {'image': 'dataset\\\\Lucchi++\\\\Train_In\\\\mask0162.png', 'annotation': 'dataset\\\\Lucchi++\\\\Train_Out\\\\162.png', 'index': 162}, {'image': 'dataset\\\\Lucchi++\\\\Train_In\\\\mask0163.png', 'annotation': 'dataset\\\\Lucchi++\\\\Train_Out\\\\163.png', 'index': 163}, {'image': 'dataset\\\\Lucchi++\\\\Train_In\\\\mask0164.png', 'annotation': 'dataset\\\\Lucchi++\\\\Train_Out\\\\164.png', 'index': 164}]\n",
      "Test Data (Lucchi++): [{'image': 'dataset\\\\Lucchi++\\\\Test_In\\\\mask0000.png', 'annotation': 'dataset\\\\Lucchi++\\\\Test_Out\\\\0.png', 'index': 0}, {'image': 'dataset\\\\Lucchi++\\\\Test_In\\\\mask0001.png', 'annotation': 'dataset\\\\Lucchi++\\\\Test_Out\\\\1.png', 'index': 1}, {'image': 'dataset\\\\Lucchi++\\\\Test_In\\\\mask0002.png', 'annotation': 'dataset\\\\Lucchi++\\\\Test_Out\\\\2.png', 'index': 2}, {'image': 'dataset\\\\Lucchi++\\\\Test_In\\\\mask0003.png', 'annotation': 'dataset\\\\Lucchi++\\\\Test_Out\\\\3.png', 'index': 3}, {'image': 'dataset\\\\Lucchi++\\\\Test_In\\\\mask0004.png', 'annotation': 'dataset\\\\Lucchi++\\\\Test_Out\\\\4.png', 'index': 4}, {'image': 'dataset\\\\Lucchi++\\\\Test_In\\\\mask0005.png', 'annotation': 'dataset\\\\Lucchi++\\\\Test_Out\\\\5.png', 'index': 5}, {'image': 'dataset\\\\Lucchi++\\\\Test_In\\\\mask0006.png', 'annotation': 'dataset\\\\Lucchi++\\\\Test_Out\\\\6.png', 'index': 6}, {'image': 'dataset\\\\Lucchi++\\\\Test_In\\\\mask0007.png', 'annotation': 'dataset\\\\Lucchi++\\\\Test_Out\\\\7.png', 'index': 7}, {'image': 'dataset\\\\Lucchi++\\\\Test_In\\\\mask0008.png', 'annotation': 'dataset\\\\Lucchi++\\\\Test_Out\\\\8.png', 'index': 8}, {'image': 'dataset\\\\Lucchi++\\\\Test_In\\\\mask0009.png', 'annotation': 'dataset\\\\Lucchi++\\\\Test_Out\\\\9.png', 'index': 9}, {'image': 'dataset\\\\Lucchi++\\\\Test_In\\\\mask0010.png', 'annotation': 'dataset\\\\Lucchi++\\\\Test_Out\\\\10.png', 'index': 10}, {'image': 'dataset\\\\Lucchi++\\\\Test_In\\\\mask0011.png', 'annotation': 'dataset\\\\Lucchi++\\\\Test_Out\\\\11.png', 'index': 11}, {'image': 'dataset\\\\Lucchi++\\\\Test_In\\\\mask0012.png', 'annotation': 'dataset\\\\Lucchi++\\\\Test_Out\\\\12.png', 'index': 12}, {'image': 'dataset\\\\Lucchi++\\\\Test_In\\\\mask0013.png', 'annotation': 'dataset\\\\Lucchi++\\\\Test_Out\\\\13.png', 'index': 13}, {'image': 'dataset\\\\Lucchi++\\\\Test_In\\\\mask0014.png', 'annotation': 'dataset\\\\Lucchi++\\\\Test_Out\\\\14.png', 'index': 14}, {'image': 'dataset\\\\Lucchi++\\\\Test_In\\\\mask0015.png', 'annotation': 'dataset\\\\Lucchi++\\\\Test_Out\\\\15.png', 'index': 15}, {'image': 'dataset\\\\Lucchi++\\\\Test_In\\\\mask0016.png', 'annotation': 'dataset\\\\Lucchi++\\\\Test_Out\\\\16.png', 'index': 16}, {'image': 'dataset\\\\Lucchi++\\\\Test_In\\\\mask0017.png', 'annotation': 'dataset\\\\Lucchi++\\\\Test_Out\\\\17.png', 'index': 17}, {'image': 'dataset\\\\Lucchi++\\\\Test_In\\\\mask0018.png', 'annotation': 'dataset\\\\Lucchi++\\\\Test_Out\\\\18.png', 'index': 18}, {'image': 'dataset\\\\Lucchi++\\\\Test_In\\\\mask0019.png', 'annotation': 'dataset\\\\Lucchi++\\\\Test_Out\\\\19.png', 'index': 19}, {'image': 'dataset\\\\Lucchi++\\\\Test_In\\\\mask0020.png', 'annotation': 'dataset\\\\Lucchi++\\\\Test_Out\\\\20.png', 'index': 20}, {'image': 'dataset\\\\Lucchi++\\\\Test_In\\\\mask0021.png', 'annotation': 'dataset\\\\Lucchi++\\\\Test_Out\\\\21.png', 'index': 21}, {'image': 'dataset\\\\Lucchi++\\\\Test_In\\\\mask0022.png', 'annotation': 'dataset\\\\Lucchi++\\\\Test_Out\\\\22.png', 'index': 22}, {'image': 'dataset\\\\Lucchi++\\\\Test_In\\\\mask0023.png', 'annotation': 'dataset\\\\Lucchi++\\\\Test_Out\\\\23.png', 'index': 23}, {'image': 'dataset\\\\Lucchi++\\\\Test_In\\\\mask0024.png', 'annotation': 'dataset\\\\Lucchi++\\\\Test_Out\\\\24.png', 'index': 24}, {'image': 'dataset\\\\Lucchi++\\\\Test_In\\\\mask0025.png', 'annotation': 'dataset\\\\Lucchi++\\\\Test_Out\\\\25.png', 'index': 25}, {'image': 'dataset\\\\Lucchi++\\\\Test_In\\\\mask0026.png', 'annotation': 'dataset\\\\Lucchi++\\\\Test_Out\\\\26.png', 'index': 26}, {'image': 'dataset\\\\Lucchi++\\\\Test_In\\\\mask0027.png', 'annotation': 'dataset\\\\Lucchi++\\\\Test_Out\\\\27.png', 'index': 27}, {'image': 'dataset\\\\Lucchi++\\\\Test_In\\\\mask0028.png', 'annotation': 'dataset\\\\Lucchi++\\\\Test_Out\\\\28.png', 'index': 28}, {'image': 'dataset\\\\Lucchi++\\\\Test_In\\\\mask0029.png', 'annotation': 'dataset\\\\Lucchi++\\\\Test_Out\\\\29.png', 'index': 29}, {'image': 'dataset\\\\Lucchi++\\\\Test_In\\\\mask0030.png', 'annotation': 'dataset\\\\Lucchi++\\\\Test_Out\\\\30.png', 'index': 30}, {'image': 'dataset\\\\Lucchi++\\\\Test_In\\\\mask0031.png', 'annotation': 'dataset\\\\Lucchi++\\\\Test_Out\\\\31.png', 'index': 31}, {'image': 'dataset\\\\Lucchi++\\\\Test_In\\\\mask0032.png', 'annotation': 'dataset\\\\Lucchi++\\\\Test_Out\\\\32.png', 'index': 32}, {'image': 'dataset\\\\Lucchi++\\\\Test_In\\\\mask0033.png', 'annotation': 'dataset\\\\Lucchi++\\\\Test_Out\\\\33.png', 'index': 33}, {'image': 'dataset\\\\Lucchi++\\\\Test_In\\\\mask0034.png', 'annotation': 'dataset\\\\Lucchi++\\\\Test_Out\\\\34.png', 'index': 34}, {'image': 'dataset\\\\Lucchi++\\\\Test_In\\\\mask0035.png', 'annotation': 'dataset\\\\Lucchi++\\\\Test_Out\\\\35.png', 'index': 35}, {'image': 'dataset\\\\Lucchi++\\\\Test_In\\\\mask0036.png', 'annotation': 'dataset\\\\Lucchi++\\\\Test_Out\\\\36.png', 'index': 36}, {'image': 'dataset\\\\Lucchi++\\\\Test_In\\\\mask0037.png', 'annotation': 'dataset\\\\Lucchi++\\\\Test_Out\\\\37.png', 'index': 37}, {'image': 'dataset\\\\Lucchi++\\\\Test_In\\\\mask0038.png', 'annotation': 'dataset\\\\Lucchi++\\\\Test_Out\\\\38.png', 'index': 38}, {'image': 'dataset\\\\Lucchi++\\\\Test_In\\\\mask0039.png', 'annotation': 'dataset\\\\Lucchi++\\\\Test_Out\\\\39.png', 'index': 39}, {'image': 'dataset\\\\Lucchi++\\\\Test_In\\\\mask0040.png', 'annotation': 'dataset\\\\Lucchi++\\\\Test_Out\\\\40.png', 'index': 40}, {'image': 'dataset\\\\Lucchi++\\\\Test_In\\\\mask0041.png', 'annotation': 'dataset\\\\Lucchi++\\\\Test_Out\\\\41.png', 'index': 41}, {'image': 'dataset\\\\Lucchi++\\\\Test_In\\\\mask0042.png', 'annotation': 'dataset\\\\Lucchi++\\\\Test_Out\\\\42.png', 'index': 42}, {'image': 'dataset\\\\Lucchi++\\\\Test_In\\\\mask0043.png', 'annotation': 'dataset\\\\Lucchi++\\\\Test_Out\\\\43.png', 'index': 43}, {'image': 'dataset\\\\Lucchi++\\\\Test_In\\\\mask0044.png', 'annotation': 'dataset\\\\Lucchi++\\\\Test_Out\\\\44.png', 'index': 44}, {'image': 'dataset\\\\Lucchi++\\\\Test_In\\\\mask0045.png', 'annotation': 'dataset\\\\Lucchi++\\\\Test_Out\\\\45.png', 'index': 45}, {'image': 'dataset\\\\Lucchi++\\\\Test_In\\\\mask0046.png', 'annotation': 'dataset\\\\Lucchi++\\\\Test_Out\\\\46.png', 'index': 46}, {'image': 'dataset\\\\Lucchi++\\\\Test_In\\\\mask0047.png', 'annotation': 'dataset\\\\Lucchi++\\\\Test_Out\\\\47.png', 'index': 47}, {'image': 'dataset\\\\Lucchi++\\\\Test_In\\\\mask0048.png', 'annotation': 'dataset\\\\Lucchi++\\\\Test_Out\\\\48.png', 'index': 48}, {'image': 'dataset\\\\Lucchi++\\\\Test_In\\\\mask0049.png', 'annotation': 'dataset\\\\Lucchi++\\\\Test_Out\\\\49.png', 'index': 49}, {'image': 'dataset\\\\Lucchi++\\\\Test_In\\\\mask0050.png', 'annotation': 'dataset\\\\Lucchi++\\\\Test_Out\\\\50.png', 'index': 50}, {'image': 'dataset\\\\Lucchi++\\\\Test_In\\\\mask0051.png', 'annotation': 'dataset\\\\Lucchi++\\\\Test_Out\\\\51.png', 'index': 51}, {'image': 'dataset\\\\Lucchi++\\\\Test_In\\\\mask0052.png', 'annotation': 'dataset\\\\Lucchi++\\\\Test_Out\\\\52.png', 'index': 52}, {'image': 'dataset\\\\Lucchi++\\\\Test_In\\\\mask0053.png', 'annotation': 'dataset\\\\Lucchi++\\\\Test_Out\\\\53.png', 'index': 53}, {'image': 'dataset\\\\Lucchi++\\\\Test_In\\\\mask0054.png', 'annotation': 'dataset\\\\Lucchi++\\\\Test_Out\\\\54.png', 'index': 54}, {'image': 'dataset\\\\Lucchi++\\\\Test_In\\\\mask0055.png', 'annotation': 'dataset\\\\Lucchi++\\\\Test_Out\\\\55.png', 'index': 55}, {'image': 'dataset\\\\Lucchi++\\\\Test_In\\\\mask0056.png', 'annotation': 'dataset\\\\Lucchi++\\\\Test_Out\\\\56.png', 'index': 56}, {'image': 'dataset\\\\Lucchi++\\\\Test_In\\\\mask0057.png', 'annotation': 'dataset\\\\Lucchi++\\\\Test_Out\\\\57.png', 'index': 57}, {'image': 'dataset\\\\Lucchi++\\\\Test_In\\\\mask0058.png', 'annotation': 'dataset\\\\Lucchi++\\\\Test_Out\\\\58.png', 'index': 58}, {'image': 'dataset\\\\Lucchi++\\\\Test_In\\\\mask0059.png', 'annotation': 'dataset\\\\Lucchi++\\\\Test_Out\\\\59.png', 'index': 59}, {'image': 'dataset\\\\Lucchi++\\\\Test_In\\\\mask0060.png', 'annotation': 'dataset\\\\Lucchi++\\\\Test_Out\\\\60.png', 'index': 60}, {'image': 'dataset\\\\Lucchi++\\\\Test_In\\\\mask0061.png', 'annotation': 'dataset\\\\Lucchi++\\\\Test_Out\\\\61.png', 'index': 61}, {'image': 'dataset\\\\Lucchi++\\\\Test_In\\\\mask0062.png', 'annotation': 'dataset\\\\Lucchi++\\\\Test_Out\\\\62.png', 'index': 62}, {'image': 'dataset\\\\Lucchi++\\\\Test_In\\\\mask0063.png', 'annotation': 'dataset\\\\Lucchi++\\\\Test_Out\\\\63.png', 'index': 63}, {'image': 'dataset\\\\Lucchi++\\\\Test_In\\\\mask0064.png', 'annotation': 'dataset\\\\Lucchi++\\\\Test_Out\\\\64.png', 'index': 64}, {'image': 'dataset\\\\Lucchi++\\\\Test_In\\\\mask0065.png', 'annotation': 'dataset\\\\Lucchi++\\\\Test_Out\\\\65.png', 'index': 65}, {'image': 'dataset\\\\Lucchi++\\\\Test_In\\\\mask0066.png', 'annotation': 'dataset\\\\Lucchi++\\\\Test_Out\\\\66.png', 'index': 66}, {'image': 'dataset\\\\Lucchi++\\\\Test_In\\\\mask0067.png', 'annotation': 'dataset\\\\Lucchi++\\\\Test_Out\\\\67.png', 'index': 67}, {'image': 'dataset\\\\Lucchi++\\\\Test_In\\\\mask0068.png', 'annotation': 'dataset\\\\Lucchi++\\\\Test_Out\\\\68.png', 'index': 68}, {'image': 'dataset\\\\Lucchi++\\\\Test_In\\\\mask0069.png', 'annotation': 'dataset\\\\Lucchi++\\\\Test_Out\\\\69.png', 'index': 69}, {'image': 'dataset\\\\Lucchi++\\\\Test_In\\\\mask0070.png', 'annotation': 'dataset\\\\Lucchi++\\\\Test_Out\\\\70.png', 'index': 70}, {'image': 'dataset\\\\Lucchi++\\\\Test_In\\\\mask0071.png', 'annotation': 'dataset\\\\Lucchi++\\\\Test_Out\\\\71.png', 'index': 71}, {'image': 'dataset\\\\Lucchi++\\\\Test_In\\\\mask0072.png', 'annotation': 'dataset\\\\Lucchi++\\\\Test_Out\\\\72.png', 'index': 72}, {'image': 'dataset\\\\Lucchi++\\\\Test_In\\\\mask0073.png', 'annotation': 'dataset\\\\Lucchi++\\\\Test_Out\\\\73.png', 'index': 73}, {'image': 'dataset\\\\Lucchi++\\\\Test_In\\\\mask0074.png', 'annotation': 'dataset\\\\Lucchi++\\\\Test_Out\\\\74.png', 'index': 74}, {'image': 'dataset\\\\Lucchi++\\\\Test_In\\\\mask0075.png', 'annotation': 'dataset\\\\Lucchi++\\\\Test_Out\\\\75.png', 'index': 75}, {'image': 'dataset\\\\Lucchi++\\\\Test_In\\\\mask0076.png', 'annotation': 'dataset\\\\Lucchi++\\\\Test_Out\\\\76.png', 'index': 76}, {'image': 'dataset\\\\Lucchi++\\\\Test_In\\\\mask0077.png', 'annotation': 'dataset\\\\Lucchi++\\\\Test_Out\\\\77.png', 'index': 77}, {'image': 'dataset\\\\Lucchi++\\\\Test_In\\\\mask0078.png', 'annotation': 'dataset\\\\Lucchi++\\\\Test_Out\\\\78.png', 'index': 78}, {'image': 'dataset\\\\Lucchi++\\\\Test_In\\\\mask0079.png', 'annotation': 'dataset\\\\Lucchi++\\\\Test_Out\\\\79.png', 'index': 79}, {'image': 'dataset\\\\Lucchi++\\\\Test_In\\\\mask0080.png', 'annotation': 'dataset\\\\Lucchi++\\\\Test_Out\\\\80.png', 'index': 80}, {'image': 'dataset\\\\Lucchi++\\\\Test_In\\\\mask0081.png', 'annotation': 'dataset\\\\Lucchi++\\\\Test_Out\\\\81.png', 'index': 81}, {'image': 'dataset\\\\Lucchi++\\\\Test_In\\\\mask0082.png', 'annotation': 'dataset\\\\Lucchi++\\\\Test_Out\\\\82.png', 'index': 82}, {'image': 'dataset\\\\Lucchi++\\\\Test_In\\\\mask0083.png', 'annotation': 'dataset\\\\Lucchi++\\\\Test_Out\\\\83.png', 'index': 83}, {'image': 'dataset\\\\Lucchi++\\\\Test_In\\\\mask0084.png', 'annotation': 'dataset\\\\Lucchi++\\\\Test_Out\\\\84.png', 'index': 84}, {'image': 'dataset\\\\Lucchi++\\\\Test_In\\\\mask0085.png', 'annotation': 'dataset\\\\Lucchi++\\\\Test_Out\\\\85.png', 'index': 85}, {'image': 'dataset\\\\Lucchi++\\\\Test_In\\\\mask0086.png', 'annotation': 'dataset\\\\Lucchi++\\\\Test_Out\\\\86.png', 'index': 86}, {'image': 'dataset\\\\Lucchi++\\\\Test_In\\\\mask0087.png', 'annotation': 'dataset\\\\Lucchi++\\\\Test_Out\\\\87.png', 'index': 87}, {'image': 'dataset\\\\Lucchi++\\\\Test_In\\\\mask0088.png', 'annotation': 'dataset\\\\Lucchi++\\\\Test_Out\\\\88.png', 'index': 88}, {'image': 'dataset\\\\Lucchi++\\\\Test_In\\\\mask0089.png', 'annotation': 'dataset\\\\Lucchi++\\\\Test_Out\\\\89.png', 'index': 89}, {'image': 'dataset\\\\Lucchi++\\\\Test_In\\\\mask0090.png', 'annotation': 'dataset\\\\Lucchi++\\\\Test_Out\\\\90.png', 'index': 90}, {'image': 'dataset\\\\Lucchi++\\\\Test_In\\\\mask0091.png', 'annotation': 'dataset\\\\Lucchi++\\\\Test_Out\\\\91.png', 'index': 91}, {'image': 'dataset\\\\Lucchi++\\\\Test_In\\\\mask0092.png', 'annotation': 'dataset\\\\Lucchi++\\\\Test_Out\\\\92.png', 'index': 92}, {'image': 'dataset\\\\Lucchi++\\\\Test_In\\\\mask0093.png', 'annotation': 'dataset\\\\Lucchi++\\\\Test_Out\\\\93.png', 'index': 93}, {'image': 'dataset\\\\Lucchi++\\\\Test_In\\\\mask0094.png', 'annotation': 'dataset\\\\Lucchi++\\\\Test_Out\\\\94.png', 'index': 94}, {'image': 'dataset\\\\Lucchi++\\\\Test_In\\\\mask0095.png', 'annotation': 'dataset\\\\Lucchi++\\\\Test_Out\\\\95.png', 'index': 95}, {'image': 'dataset\\\\Lucchi++\\\\Test_In\\\\mask0096.png', 'annotation': 'dataset\\\\Lucchi++\\\\Test_Out\\\\96.png', 'index': 96}, {'image': 'dataset\\\\Lucchi++\\\\Test_In\\\\mask0097.png', 'annotation': 'dataset\\\\Lucchi++\\\\Test_Out\\\\97.png', 'index': 97}, {'image': 'dataset\\\\Lucchi++\\\\Test_In\\\\mask0098.png', 'annotation': 'dataset\\\\Lucchi++\\\\Test_Out\\\\98.png', 'index': 98}, {'image': 'dataset\\\\Lucchi++\\\\Test_In\\\\mask0099.png', 'annotation': 'dataset\\\\Lucchi++\\\\Test_Out\\\\99.png', 'index': 99}, {'image': 'dataset\\\\Lucchi++\\\\Test_In\\\\mask0100.png', 'annotation': 'dataset\\\\Lucchi++\\\\Test_Out\\\\100.png', 'index': 100}, {'image': 'dataset\\\\Lucchi++\\\\Test_In\\\\mask0101.png', 'annotation': 'dataset\\\\Lucchi++\\\\Test_Out\\\\101.png', 'index': 101}, {'image': 'dataset\\\\Lucchi++\\\\Test_In\\\\mask0102.png', 'annotation': 'dataset\\\\Lucchi++\\\\Test_Out\\\\102.png', 'index': 102}, {'image': 'dataset\\\\Lucchi++\\\\Test_In\\\\mask0103.png', 'annotation': 'dataset\\\\Lucchi++\\\\Test_Out\\\\103.png', 'index': 103}, {'image': 'dataset\\\\Lucchi++\\\\Test_In\\\\mask0104.png', 'annotation': 'dataset\\\\Lucchi++\\\\Test_Out\\\\104.png', 'index': 104}, {'image': 'dataset\\\\Lucchi++\\\\Test_In\\\\mask0105.png', 'annotation': 'dataset\\\\Lucchi++\\\\Test_Out\\\\105.png', 'index': 105}, {'image': 'dataset\\\\Lucchi++\\\\Test_In\\\\mask0106.png', 'annotation': 'dataset\\\\Lucchi++\\\\Test_Out\\\\106.png', 'index': 106}, {'image': 'dataset\\\\Lucchi++\\\\Test_In\\\\mask0107.png', 'annotation': 'dataset\\\\Lucchi++\\\\Test_Out\\\\107.png', 'index': 107}, {'image': 'dataset\\\\Lucchi++\\\\Test_In\\\\mask0108.png', 'annotation': 'dataset\\\\Lucchi++\\\\Test_Out\\\\108.png', 'index': 108}, {'image': 'dataset\\\\Lucchi++\\\\Test_In\\\\mask0109.png', 'annotation': 'dataset\\\\Lucchi++\\\\Test_Out\\\\109.png', 'index': 109}, {'image': 'dataset\\\\Lucchi++\\\\Test_In\\\\mask0110.png', 'annotation': 'dataset\\\\Lucchi++\\\\Test_Out\\\\110.png', 'index': 110}, {'image': 'dataset\\\\Lucchi++\\\\Test_In\\\\mask0111.png', 'annotation': 'dataset\\\\Lucchi++\\\\Test_Out\\\\111.png', 'index': 111}, {'image': 'dataset\\\\Lucchi++\\\\Test_In\\\\mask0112.png', 'annotation': 'dataset\\\\Lucchi++\\\\Test_Out\\\\112.png', 'index': 112}, {'image': 'dataset\\\\Lucchi++\\\\Test_In\\\\mask0113.png', 'annotation': 'dataset\\\\Lucchi++\\\\Test_Out\\\\113.png', 'index': 113}, {'image': 'dataset\\\\Lucchi++\\\\Test_In\\\\mask0114.png', 'annotation': 'dataset\\\\Lucchi++\\\\Test_Out\\\\114.png', 'index': 114}, {'image': 'dataset\\\\Lucchi++\\\\Test_In\\\\mask0115.png', 'annotation': 'dataset\\\\Lucchi++\\\\Test_Out\\\\115.png', 'index': 115}, {'image': 'dataset\\\\Lucchi++\\\\Test_In\\\\mask0116.png', 'annotation': 'dataset\\\\Lucchi++\\\\Test_Out\\\\116.png', 'index': 116}, {'image': 'dataset\\\\Lucchi++\\\\Test_In\\\\mask0117.png', 'annotation': 'dataset\\\\Lucchi++\\\\Test_Out\\\\117.png', 'index': 117}, {'image': 'dataset\\\\Lucchi++\\\\Test_In\\\\mask0118.png', 'annotation': 'dataset\\\\Lucchi++\\\\Test_Out\\\\118.png', 'index': 118}, {'image': 'dataset\\\\Lucchi++\\\\Test_In\\\\mask0119.png', 'annotation': 'dataset\\\\Lucchi++\\\\Test_Out\\\\119.png', 'index': 119}, {'image': 'dataset\\\\Lucchi++\\\\Test_In\\\\mask0120.png', 'annotation': 'dataset\\\\Lucchi++\\\\Test_Out\\\\120.png', 'index': 120}, {'image': 'dataset\\\\Lucchi++\\\\Test_In\\\\mask0121.png', 'annotation': 'dataset\\\\Lucchi++\\\\Test_Out\\\\121.png', 'index': 121}, {'image': 'dataset\\\\Lucchi++\\\\Test_In\\\\mask0122.png', 'annotation': 'dataset\\\\Lucchi++\\\\Test_Out\\\\122.png', 'index': 122}, {'image': 'dataset\\\\Lucchi++\\\\Test_In\\\\mask0123.png', 'annotation': 'dataset\\\\Lucchi++\\\\Test_Out\\\\123.png', 'index': 123}, {'image': 'dataset\\\\Lucchi++\\\\Test_In\\\\mask0124.png', 'annotation': 'dataset\\\\Lucchi++\\\\Test_Out\\\\124.png', 'index': 124}, {'image': 'dataset\\\\Lucchi++\\\\Test_In\\\\mask0125.png', 'annotation': 'dataset\\\\Lucchi++\\\\Test_Out\\\\125.png', 'index': 125}, {'image': 'dataset\\\\Lucchi++\\\\Test_In\\\\mask0126.png', 'annotation': 'dataset\\\\Lucchi++\\\\Test_Out\\\\126.png', 'index': 126}, {'image': 'dataset\\\\Lucchi++\\\\Test_In\\\\mask0127.png', 'annotation': 'dataset\\\\Lucchi++\\\\Test_Out\\\\127.png', 'index': 127}, {'image': 'dataset\\\\Lucchi++\\\\Test_In\\\\mask0128.png', 'annotation': 'dataset\\\\Lucchi++\\\\Test_Out\\\\128.png', 'index': 128}, {'image': 'dataset\\\\Lucchi++\\\\Test_In\\\\mask0129.png', 'annotation': 'dataset\\\\Lucchi++\\\\Test_Out\\\\129.png', 'index': 129}, {'image': 'dataset\\\\Lucchi++\\\\Test_In\\\\mask0130.png', 'annotation': 'dataset\\\\Lucchi++\\\\Test_Out\\\\130.png', 'index': 130}, {'image': 'dataset\\\\Lucchi++\\\\Test_In\\\\mask0131.png', 'annotation': 'dataset\\\\Lucchi++\\\\Test_Out\\\\131.png', 'index': 131}, {'image': 'dataset\\\\Lucchi++\\\\Test_In\\\\mask0132.png', 'annotation': 'dataset\\\\Lucchi++\\\\Test_Out\\\\132.png', 'index': 132}, {'image': 'dataset\\\\Lucchi++\\\\Test_In\\\\mask0133.png', 'annotation': 'dataset\\\\Lucchi++\\\\Test_Out\\\\133.png', 'index': 133}, {'image': 'dataset\\\\Lucchi++\\\\Test_In\\\\mask0134.png', 'annotation': 'dataset\\\\Lucchi++\\\\Test_Out\\\\134.png', 'index': 134}, {'image': 'dataset\\\\Lucchi++\\\\Test_In\\\\mask0135.png', 'annotation': 'dataset\\\\Lucchi++\\\\Test_Out\\\\135.png', 'index': 135}, {'image': 'dataset\\\\Lucchi++\\\\Test_In\\\\mask0136.png', 'annotation': 'dataset\\\\Lucchi++\\\\Test_Out\\\\136.png', 'index': 136}, {'image': 'dataset\\\\Lucchi++\\\\Test_In\\\\mask0137.png', 'annotation': 'dataset\\\\Lucchi++\\\\Test_Out\\\\137.png', 'index': 137}, {'image': 'dataset\\\\Lucchi++\\\\Test_In\\\\mask0138.png', 'annotation': 'dataset\\\\Lucchi++\\\\Test_Out\\\\138.png', 'index': 138}, {'image': 'dataset\\\\Lucchi++\\\\Test_In\\\\mask0139.png', 'annotation': 'dataset\\\\Lucchi++\\\\Test_Out\\\\139.png', 'index': 139}, {'image': 'dataset\\\\Lucchi++\\\\Test_In\\\\mask0140.png', 'annotation': 'dataset\\\\Lucchi++\\\\Test_Out\\\\140.png', 'index': 140}, {'image': 'dataset\\\\Lucchi++\\\\Test_In\\\\mask0141.png', 'annotation': 'dataset\\\\Lucchi++\\\\Test_Out\\\\141.png', 'index': 141}, {'image': 'dataset\\\\Lucchi++\\\\Test_In\\\\mask0142.png', 'annotation': 'dataset\\\\Lucchi++\\\\Test_Out\\\\142.png', 'index': 142}, {'image': 'dataset\\\\Lucchi++\\\\Test_In\\\\mask0143.png', 'annotation': 'dataset\\\\Lucchi++\\\\Test_Out\\\\143.png', 'index': 143}, {'image': 'dataset\\\\Lucchi++\\\\Test_In\\\\mask0144.png', 'annotation': 'dataset\\\\Lucchi++\\\\Test_Out\\\\144.png', 'index': 144}, {'image': 'dataset\\\\Lucchi++\\\\Test_In\\\\mask0145.png', 'annotation': 'dataset\\\\Lucchi++\\\\Test_Out\\\\145.png', 'index': 145}, {'image': 'dataset\\\\Lucchi++\\\\Test_In\\\\mask0146.png', 'annotation': 'dataset\\\\Lucchi++\\\\Test_Out\\\\146.png', 'index': 146}, {'image': 'dataset\\\\Lucchi++\\\\Test_In\\\\mask0147.png', 'annotation': 'dataset\\\\Lucchi++\\\\Test_Out\\\\147.png', 'index': 147}, {'image': 'dataset\\\\Lucchi++\\\\Test_In\\\\mask0148.png', 'annotation': 'dataset\\\\Lucchi++\\\\Test_Out\\\\148.png', 'index': 148}, {'image': 'dataset\\\\Lucchi++\\\\Test_In\\\\mask0149.png', 'annotation': 'dataset\\\\Lucchi++\\\\Test_Out\\\\149.png', 'index': 149}, {'image': 'dataset\\\\Lucchi++\\\\Test_In\\\\mask0150.png', 'annotation': 'dataset\\\\Lucchi++\\\\Test_Out\\\\150.png', 'index': 150}, {'image': 'dataset\\\\Lucchi++\\\\Test_In\\\\mask0151.png', 'annotation': 'dataset\\\\Lucchi++\\\\Test_Out\\\\151.png', 'index': 151}, {'image': 'dataset\\\\Lucchi++\\\\Test_In\\\\mask0152.png', 'annotation': 'dataset\\\\Lucchi++\\\\Test_Out\\\\152.png', 'index': 152}, {'image': 'dataset\\\\Lucchi++\\\\Test_In\\\\mask0153.png', 'annotation': 'dataset\\\\Lucchi++\\\\Test_Out\\\\153.png', 'index': 153}, {'image': 'dataset\\\\Lucchi++\\\\Test_In\\\\mask0154.png', 'annotation': 'dataset\\\\Lucchi++\\\\Test_Out\\\\154.png', 'index': 154}, {'image': 'dataset\\\\Lucchi++\\\\Test_In\\\\mask0155.png', 'annotation': 'dataset\\\\Lucchi++\\\\Test_Out\\\\155.png', 'index': 155}, {'image': 'dataset\\\\Lucchi++\\\\Test_In\\\\mask0156.png', 'annotation': 'dataset\\\\Lucchi++\\\\Test_Out\\\\156.png', 'index': 156}, {'image': 'dataset\\\\Lucchi++\\\\Test_In\\\\mask0157.png', 'annotation': 'dataset\\\\Lucchi++\\\\Test_Out\\\\157.png', 'index': 157}, {'image': 'dataset\\\\Lucchi++\\\\Test_In\\\\mask0158.png', 'annotation': 'dataset\\\\Lucchi++\\\\Test_Out\\\\158.png', 'index': 158}, {'image': 'dataset\\\\Lucchi++\\\\Test_In\\\\mask0159.png', 'annotation': 'dataset\\\\Lucchi++\\\\Test_Out\\\\159.png', 'index': 159}, {'image': 'dataset\\\\Lucchi++\\\\Test_In\\\\mask0160.png', 'annotation': 'dataset\\\\Lucchi++\\\\Test_Out\\\\160.png', 'index': 160}, {'image': 'dataset\\\\Lucchi++\\\\Test_In\\\\mask0161.png', 'annotation': 'dataset\\\\Lucchi++\\\\Test_Out\\\\161.png', 'index': 161}, {'image': 'dataset\\\\Lucchi++\\\\Test_In\\\\mask0162.png', 'annotation': 'dataset\\\\Lucchi++\\\\Test_Out\\\\162.png', 'index': 162}, {'image': 'dataset\\\\Lucchi++\\\\Test_In\\\\mask0163.png', 'annotation': 'dataset\\\\Lucchi++\\\\Test_Out\\\\163.png', 'index': 163}, {'image': 'dataset\\\\Lucchi++\\\\Test_In\\\\mask0164.png', 'annotation': 'dataset\\\\Lucchi++\\\\Test_Out\\\\164.png', 'index': 164}]\n",
      "训练样本数量: 165\n",
      "测试样本数量: 165\n"
     ]
    }
   ],
   "source": [
    "train_data, test_data = prepare_dataset(\"Lucchi++\") # Lucchi++ /  Kasthuri++ / VNC\n",
    "# # Path to the chest-ct-segmentation dataset folder\n",
    "# data_dir = \"dataset\\Lucchi++\" \n",
    "# train_images_dir = os.path.join(data_dir, \"Train_In\")\n",
    "# train_masks_dir = os.path.join(data_dir, \"Train_Out\")\n",
    "# test_images_dir = os.path.join(data_dir, \"Test_In\")\n",
    "# test_masks_dir = os.path.join(data_dir, \"Test_Out\")\n",
    "\n",
    "\n",
    "# i = 0\n",
    "# # Prepare the training data, Append image and corresponding mask paths\n",
    "# train_data = []\n",
    "# for image_file in os.listdir(train_images_dir):\n",
    "#     image_path = os.path.join(train_images_dir, image_file)\n",
    "#     mask_path = os.path.join(train_masks_dir, f\"{i}.png\")\n",
    "#     i += 1\n",
    "#     train_data.append(\n",
    "#     { \n",
    "#         \"image\" : image_path, \n",
    "#         \"annotation\" : mask_path\n",
    "#     })\n",
    "\n",
    "# i = 0\n",
    "# # Prepare the test data, Append image and corresponding mask paths\n",
    "# test_data = []\n",
    "# for image_file in os.listdir(test_images_dir):\n",
    "#     image_path = os.path.join(test_images_dir, image_file)\n",
    "#     mask_path = os.path.join(test_masks_dir, f\"{i}.png\")\n",
    "#     i += 1\n",
    "#     test_data.append(\n",
    "#     { \n",
    "#         \"image\" : image_path, \n",
    "#         \"annotation\" : mask_path\n",
    "#     })\n",
    "# print(train_data)\n",
    "\n"
   ]
  },
  {
   "cell_type": "code",
   "execution_count": 3,
   "metadata": {},
   "outputs": [
    {
     "name": "stdout",
     "output_type": "stream",
     "text": [
      "开始数据集预处理...\n"
     ]
    },
    {
     "name": "stderr",
     "output_type": "stream",
     "text": [
      "处理图像: 100%|██████████| 165/165 [00:21<00:00,  7.56it/s]"
     ]
    },
    {
     "name": "stdout",
     "output_type": "stream",
     "text": [
      "数据集预处理完成，共生成 7920 个patch\n"
     ]
    },
    {
     "name": "stderr",
     "output_type": "stream",
     "text": [
      "\n"
     ]
    }
   ],
   "source": [
    "from functions.data import SegmentationDataset\n",
    "\n",
    "# 创建数据集\n",
    "train_dataset = SegmentationDataset(\n",
    "    data_list=train_data,          # 必需：数据列表\n",
    "    patch_size=128,                # 可选：patch大小，默认128\n",
    "    stride=128,                     # 可选：滑动步长，默认64\n",
    "    transform=None,\n",
    "    # preProcessing= None# 可选：数据增强转换，默认None\n",
    ")"
   ]
  },
  {
   "cell_type": "code",
   "execution_count": 4,
   "metadata": {},
   "outputs": [
    {
     "name": "stdout",
     "output_type": "stream",
     "text": [
      "数据集信息:\n",
      "总样本数: 7920\n",
      "图像块大小: 128x128\n",
      "滑动步长: 128\n",
      "是否使用数据增强: 否\n",
      "\n",
      "数据形状:\n",
      "图像块形状: torch.Size([3, 128, 128])\n",
      "掩码块形状: torch.Size([1, 128, 128])\n"
     ]
    }
   ],
   "source": [
    "# 打印数据集基本信息\n",
    "train_dataset.print_dataset_info()\n",
    "\n",
    "# 随机查看几张图片的patches\n",
    "# train_dataset.visualize_random_images(num_images=0, patches_per_image=6)\n",
    "\n"
   ]
  },
  {
   "cell_type": "code",
   "execution_count": 5,
   "metadata": {},
   "outputs": [],
   "source": [
    "# Add reconstruction function\n",
    "from functions.model import reconstruct_from_patches\n",
    "\n",
    "# Training function\n",
    "from functions.model import train_model\n",
    "\n",
    "# Inference function\n",
    "from functions.model import predict\n"
   ]
  },
  {
   "cell_type": "markdown",
   "metadata": {},
   "source": []
  },
  {
   "cell_type": "code",
   "execution_count": 6,
   "metadata": {},
   "outputs": [
    {
     "name": "stderr",
     "output_type": "stream",
     "text": [
      "f:\\github\\segment-anything-2\\functions\\model.py:277: FutureWarning: You are using `torch.load` with `weights_only=False` (the current default value), which uses the default pickle module implicitly. It is possible to construct malicious pickle data which will execute arbitrary code during unpickling (See https://github.com/pytorch/pytorch/blob/main/SECURITY.md#untrusted-models for more details). In a future release, the default value for `weights_only` will be flipped to `True`. This limits the functions that could be executed during unpickling. Arbitrary objects will no longer be allowed to be loaded via this mode unless they are explicitly allowlisted by the user via `torch.serialization.add_safe_globals`. We recommend you start setting `weights_only=True` for any use case where you don't have full control of the loaded file. Please open an issue on GitHub for any issues related to this experimental feature.\n",
      "  model.load_state_dict(torch.load(model_path, map_location=device))\n"
     ]
    },
    {
     "name": "stdout",
     "output_type": "stream",
     "text": [
      "模型已从 simple_unet_segmentation.pth 加载\n"
     ]
    }
   ],
   "source": [
    "# 加载训练好的分割模型\n",
    "from functions.model import load_model\n",
    "\n",
    "device = torch.device(\"cuda\" if torch.cuda.is_available() else \"cpu\")\n",
    "num_classes = 1 \n",
    "model_path = \"simple_unet_segmentation.pth\"\n",
    "model = load_model(model_path, device)"
   ]
  },
  {
   "cell_type": "code",
   "execution_count": 7,
   "metadata": {},
   "outputs": [
    {
     "name": "stdout",
     "output_type": "stream",
     "text": [
      "dataset\\Lucchi++\\Train_In\\mask0000.png\n",
      "dataset\\Lucchi++\\Train_Out\\0.png\n"
     ]
    }
   ],
   "source": [
    "# Load the selected image and mask\n",
    "image_path , mask_path = train_dataset.read_image(idx = 3)\n",
    "print(image_path)\n",
    "print(mask_path)\n",
    "\n",
    "from functions.samPrediction import read_image\n",
    "image, org_mask = read_image(image_path=image_path, mask_path=mask_path) "
   ]
  },
  {
   "cell_type": "code",
   "execution_count": 8,
   "metadata": {},
   "outputs": [],
   "source": [
    "# 获取预测的mask\n",
    "predicted_mask = predict(model, image_path)"
   ]
  },
  {
   "cell_type": "code",
   "execution_count": null,
   "metadata": {},
   "outputs": [
    {
     "ename": "TypeError",
     "evalue": "main_prediction_process() missing 1 required positional argument: 'predicted_mask'",
     "output_type": "error",
     "traceback": [
      "\u001b[1;31m---------------------------------------------------------------------------\u001b[0m",
      "\u001b[1;31mTypeError\u001b[0m                                 Traceback (most recent call last)",
      "Cell \u001b[1;32mIn[9], line 3\u001b[0m\n\u001b[0;32m      1\u001b[0m \u001b[38;5;28;01mfrom\u001b[39;00m \u001b[38;5;21;01mfunctions\u001b[39;00m\u001b[38;5;21;01m.\u001b[39;00m\u001b[38;5;21;01msamPrediction\u001b[39;00m \u001b[38;5;28;01mimport\u001b[39;00m main_prediction_process\n\u001b[1;32m----> 3\u001b[0m \u001b[43mmain_prediction_process\u001b[49m\u001b[43m(\u001b[49m\u001b[43mimage\u001b[49m\u001b[43m,\u001b[49m\u001b[43m \u001b[49m\u001b[43mpredicted_mask\u001b[49m\u001b[43m)\u001b[49m\n",
      "\u001b[1;31mTypeError\u001b[0m: main_prediction_process() missing 1 required positional argument: 'predicted_mask'"
     ]
    }
   ],
   "source": [
    "from functions.samPrediction import main_prediction_process\n",
    "from functions.samPrediction import build_sam2_model\n",
    "\n",
    "sam2_model = build_sam2_model()\n",
    "\n",
    "main_prediction_process(\n",
    "    sam2_model=sam2_model,\n",
    "    image=image,\n",
    "    predicted_mask=predicted_mask)"
   ]
  }
 ],
 "metadata": {
  "kernelspec": {
   "display_name": "Python 3",
   "language": "python",
   "name": "python3"
  },
  "language_info": {
   "codemirror_mode": {
    "name": "ipython",
    "version": 3
   },
   "file_extension": ".py",
   "mimetype": "text/x-python",
   "name": "python",
   "nbconvert_exporter": "python",
   "pygments_lexer": "ipython3",
   "version": "3.10.11"
  }
 },
 "nbformat": 4,
 "nbformat_minor": 2
}
