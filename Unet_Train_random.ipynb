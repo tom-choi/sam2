{
 "cells": [
  {
   "cell_type": "markdown",
   "metadata": {},
   "source": [
    "## 4.2最新版训练Unet全流程\n",
    "    包含 random随机种子存储，大图预处理(包含旋转，缩放，色彩对比度范围随机变化，图像填充裁切)，patch分割，训练，存储model，测试model。"
   ]
  },
  {
   "cell_type": "markdown",
   "metadata": {},
   "source": [
    "### 加载基本库"
   ]
  },
  {
   "cell_type": "code",
   "execution_count": 1,
   "metadata": {},
   "outputs": [],
   "source": [
    "import torch\n",
    "import cv2\n",
    "import numpy as np\n",
    "import matplotlib.pyplot as plt\n",
    "import random\n",
    "import os\n",
    "import math\n",
    "import torch.nn as nn\n",
    "from torch.optim.lr_scheduler import ReduceLROnPlateau\n",
    "from torch.utils.data import Dataset, DataLoader\n",
    "import torch.nn.functional as F\n",
    "from torch.optim import Adam\n",
    "from tqdm import tqdm\n",
    "import gc\n",
    "\n",
    "# 封装的函数模块，model部分全部引用\n",
    "from functions.data import prepare_dataset,get_optimized_loaders\n",
    "from functions.model import *\n",
    "from functions.data import SegmentationDataset\n",
    "from functions.imagePreprocessing import ImagePreprocessor\n"
   ]
  },
  {
   "cell_type": "markdown",
   "metadata": {},
   "source": [
    "### 数据集准备"
   ]
  },
  {
   "cell_type": "code",
   "execution_count": 2,
   "metadata": {},
   "outputs": [
    {
     "name": "stdout",
     "output_type": "stream",
     "text": [
      "Train Data (Kasthuri++): [{'image': 'dataset\\\\Kasthuri++\\\\Train_In\\\\mask1031.png', 'annotation': 'dataset\\\\Kasthuri++\\\\Train_Out\\\\mask1031.png', 'index': 0}, {'image': 'dataset\\\\Kasthuri++\\\\Train_In\\\\mask1032.png', 'annotation': 'dataset\\\\Kasthuri++\\\\Train_Out\\\\mask1032.png', 'index': 1}, {'image': 'dataset\\\\Kasthuri++\\\\Train_In\\\\mask1033.png', 'annotation': 'dataset\\\\Kasthuri++\\\\Train_Out\\\\mask1033.png', 'index': 2}, {'image': 'dataset\\\\Kasthuri++\\\\Train_In\\\\mask1034.png', 'annotation': 'dataset\\\\Kasthuri++\\\\Train_Out\\\\mask1034.png', 'index': 3}, {'image': 'dataset\\\\Kasthuri++\\\\Train_In\\\\mask1035.png', 'annotation': 'dataset\\\\Kasthuri++\\\\Train_Out\\\\mask1035.png', 'index': 4}, {'image': 'dataset\\\\Kasthuri++\\\\Train_In\\\\mask1036.png', 'annotation': 'dataset\\\\Kasthuri++\\\\Train_Out\\\\mask1036.png', 'index': 5}, {'image': 'dataset\\\\Kasthuri++\\\\Train_In\\\\mask1037.png', 'annotation': 'dataset\\\\Kasthuri++\\\\Train_Out\\\\mask1037.png', 'index': 6}, {'image': 'dataset\\\\Kasthuri++\\\\Train_In\\\\mask1038.png', 'annotation': 'dataset\\\\Kasthuri++\\\\Train_Out\\\\mask1038.png', 'index': 7}, {'image': 'dataset\\\\Kasthuri++\\\\Train_In\\\\mask1039.png', 'annotation': 'dataset\\\\Kasthuri++\\\\Train_Out\\\\mask1039.png', 'index': 8}, {'image': 'dataset\\\\Kasthuri++\\\\Train_In\\\\mask1040.png', 'annotation': 'dataset\\\\Kasthuri++\\\\Train_Out\\\\mask1040.png', 'index': 9}, {'image': 'dataset\\\\Kasthuri++\\\\Train_In\\\\mask1041.png', 'annotation': 'dataset\\\\Kasthuri++\\\\Train_Out\\\\mask1041.png', 'index': 10}, {'image': 'dataset\\\\Kasthuri++\\\\Train_In\\\\mask1042.png', 'annotation': 'dataset\\\\Kasthuri++\\\\Train_Out\\\\mask1042.png', 'index': 11}, {'image': 'dataset\\\\Kasthuri++\\\\Train_In\\\\mask1043.png', 'annotation': 'dataset\\\\Kasthuri++\\\\Train_Out\\\\mask1043.png', 'index': 12}, {'image': 'dataset\\\\Kasthuri++\\\\Train_In\\\\mask1044.png', 'annotation': 'dataset\\\\Kasthuri++\\\\Train_Out\\\\mask1044.png', 'index': 13}, {'image': 'dataset\\\\Kasthuri++\\\\Train_In\\\\mask1045.png', 'annotation': 'dataset\\\\Kasthuri++\\\\Train_Out\\\\mask1045.png', 'index': 14}, {'image': 'dataset\\\\Kasthuri++\\\\Train_In\\\\mask1046.png', 'annotation': 'dataset\\\\Kasthuri++\\\\Train_Out\\\\mask1046.png', 'index': 15}, {'image': 'dataset\\\\Kasthuri++\\\\Train_In\\\\mask1047.png', 'annotation': 'dataset\\\\Kasthuri++\\\\Train_Out\\\\mask1047.png', 'index': 16}, {'image': 'dataset\\\\Kasthuri++\\\\Train_In\\\\mask1048.png', 'annotation': 'dataset\\\\Kasthuri++\\\\Train_Out\\\\mask1048.png', 'index': 17}, {'image': 'dataset\\\\Kasthuri++\\\\Train_In\\\\mask1049.png', 'annotation': 'dataset\\\\Kasthuri++\\\\Train_Out\\\\mask1049.png', 'index': 18}, {'image': 'dataset\\\\Kasthuri++\\\\Train_In\\\\mask1050.png', 'annotation': 'dataset\\\\Kasthuri++\\\\Train_Out\\\\mask1050.png', 'index': 19}, {'image': 'dataset\\\\Kasthuri++\\\\Train_In\\\\mask1051.png', 'annotation': 'dataset\\\\Kasthuri++\\\\Train_Out\\\\mask1051.png', 'index': 20}, {'image': 'dataset\\\\Kasthuri++\\\\Train_In\\\\mask1052.png', 'annotation': 'dataset\\\\Kasthuri++\\\\Train_Out\\\\mask1052.png', 'index': 21}, {'image': 'dataset\\\\Kasthuri++\\\\Train_In\\\\mask1053.png', 'annotation': 'dataset\\\\Kasthuri++\\\\Train_Out\\\\mask1053.png', 'index': 22}, {'image': 'dataset\\\\Kasthuri++\\\\Train_In\\\\mask1054.png', 'annotation': 'dataset\\\\Kasthuri++\\\\Train_Out\\\\mask1054.png', 'index': 23}, {'image': 'dataset\\\\Kasthuri++\\\\Train_In\\\\mask1055.png', 'annotation': 'dataset\\\\Kasthuri++\\\\Train_Out\\\\mask1055.png', 'index': 24}, {'image': 'dataset\\\\Kasthuri++\\\\Train_In\\\\mask1056.png', 'annotation': 'dataset\\\\Kasthuri++\\\\Train_Out\\\\mask1056.png', 'index': 25}, {'image': 'dataset\\\\Kasthuri++\\\\Train_In\\\\mask1057.png', 'annotation': 'dataset\\\\Kasthuri++\\\\Train_Out\\\\mask1057.png', 'index': 26}, {'image': 'dataset\\\\Kasthuri++\\\\Train_In\\\\mask1058.png', 'annotation': 'dataset\\\\Kasthuri++\\\\Train_Out\\\\mask1058.png', 'index': 27}, {'image': 'dataset\\\\Kasthuri++\\\\Train_In\\\\mask1059.png', 'annotation': 'dataset\\\\Kasthuri++\\\\Train_Out\\\\mask1059.png', 'index': 28}, {'image': 'dataset\\\\Kasthuri++\\\\Train_In\\\\mask1060.png', 'annotation': 'dataset\\\\Kasthuri++\\\\Train_Out\\\\mask1060.png', 'index': 29}, {'image': 'dataset\\\\Kasthuri++\\\\Train_In\\\\mask1061.png', 'annotation': 'dataset\\\\Kasthuri++\\\\Train_Out\\\\mask1061.png', 'index': 30}, {'image': 'dataset\\\\Kasthuri++\\\\Train_In\\\\mask1062.png', 'annotation': 'dataset\\\\Kasthuri++\\\\Train_Out\\\\mask1062.png', 'index': 31}, {'image': 'dataset\\\\Kasthuri++\\\\Train_In\\\\mask1063.png', 'annotation': 'dataset\\\\Kasthuri++\\\\Train_Out\\\\mask1063.png', 'index': 32}, {'image': 'dataset\\\\Kasthuri++\\\\Train_In\\\\mask1064.png', 'annotation': 'dataset\\\\Kasthuri++\\\\Train_Out\\\\mask1064.png', 'index': 33}, {'image': 'dataset\\\\Kasthuri++\\\\Train_In\\\\mask1065.png', 'annotation': 'dataset\\\\Kasthuri++\\\\Train_Out\\\\mask1065.png', 'index': 34}, {'image': 'dataset\\\\Kasthuri++\\\\Train_In\\\\mask1066.png', 'annotation': 'dataset\\\\Kasthuri++\\\\Train_Out\\\\mask1066.png', 'index': 35}, {'image': 'dataset\\\\Kasthuri++\\\\Train_In\\\\mask1067.png', 'annotation': 'dataset\\\\Kasthuri++\\\\Train_Out\\\\mask1067.png', 'index': 36}, {'image': 'dataset\\\\Kasthuri++\\\\Train_In\\\\mask1068.png', 'annotation': 'dataset\\\\Kasthuri++\\\\Train_Out\\\\mask1068.png', 'index': 37}, {'image': 'dataset\\\\Kasthuri++\\\\Train_In\\\\mask1069.png', 'annotation': 'dataset\\\\Kasthuri++\\\\Train_Out\\\\mask1069.png', 'index': 38}, {'image': 'dataset\\\\Kasthuri++\\\\Train_In\\\\mask1070.png', 'annotation': 'dataset\\\\Kasthuri++\\\\Train_Out\\\\mask1070.png', 'index': 39}, {'image': 'dataset\\\\Kasthuri++\\\\Train_In\\\\mask1071.png', 'annotation': 'dataset\\\\Kasthuri++\\\\Train_Out\\\\mask1071.png', 'index': 40}, {'image': 'dataset\\\\Kasthuri++\\\\Train_In\\\\mask1072.png', 'annotation': 'dataset\\\\Kasthuri++\\\\Train_Out\\\\mask1072.png', 'index': 41}, {'image': 'dataset\\\\Kasthuri++\\\\Train_In\\\\mask1073.png', 'annotation': 'dataset\\\\Kasthuri++\\\\Train_Out\\\\mask1073.png', 'index': 42}, {'image': 'dataset\\\\Kasthuri++\\\\Train_In\\\\mask1074.png', 'annotation': 'dataset\\\\Kasthuri++\\\\Train_Out\\\\mask1074.png', 'index': 43}, {'image': 'dataset\\\\Kasthuri++\\\\Train_In\\\\mask1075.png', 'annotation': 'dataset\\\\Kasthuri++\\\\Train_Out\\\\mask1075.png', 'index': 44}, {'image': 'dataset\\\\Kasthuri++\\\\Train_In\\\\mask1076.png', 'annotation': 'dataset\\\\Kasthuri++\\\\Train_Out\\\\mask1076.png', 'index': 45}, {'image': 'dataset\\\\Kasthuri++\\\\Train_In\\\\mask1077.png', 'annotation': 'dataset\\\\Kasthuri++\\\\Train_Out\\\\mask1077.png', 'index': 46}, {'image': 'dataset\\\\Kasthuri++\\\\Train_In\\\\mask1078.png', 'annotation': 'dataset\\\\Kasthuri++\\\\Train_Out\\\\mask1078.png', 'index': 47}, {'image': 'dataset\\\\Kasthuri++\\\\Train_In\\\\mask1079.png', 'annotation': 'dataset\\\\Kasthuri++\\\\Train_Out\\\\mask1079.png', 'index': 48}, {'image': 'dataset\\\\Kasthuri++\\\\Train_In\\\\mask1080.png', 'annotation': 'dataset\\\\Kasthuri++\\\\Train_Out\\\\mask1080.png', 'index': 49}, {'image': 'dataset\\\\Kasthuri++\\\\Train_In\\\\mask1081.png', 'annotation': 'dataset\\\\Kasthuri++\\\\Train_Out\\\\mask1081.png', 'index': 50}, {'image': 'dataset\\\\Kasthuri++\\\\Train_In\\\\mask1082.png', 'annotation': 'dataset\\\\Kasthuri++\\\\Train_Out\\\\mask1082.png', 'index': 51}, {'image': 'dataset\\\\Kasthuri++\\\\Train_In\\\\mask1083.png', 'annotation': 'dataset\\\\Kasthuri++\\\\Train_Out\\\\mask1083.png', 'index': 52}, {'image': 'dataset\\\\Kasthuri++\\\\Train_In\\\\mask1084.png', 'annotation': 'dataset\\\\Kasthuri++\\\\Train_Out\\\\mask1084.png', 'index': 53}, {'image': 'dataset\\\\Kasthuri++\\\\Train_In\\\\mask1085.png', 'annotation': 'dataset\\\\Kasthuri++\\\\Train_Out\\\\mask1085.png', 'index': 54}, {'image': 'dataset\\\\Kasthuri++\\\\Train_In\\\\mask1086.png', 'annotation': 'dataset\\\\Kasthuri++\\\\Train_Out\\\\mask1086.png', 'index': 55}, {'image': 'dataset\\\\Kasthuri++\\\\Train_In\\\\mask1087.png', 'annotation': 'dataset\\\\Kasthuri++\\\\Train_Out\\\\mask1087.png', 'index': 56}, {'image': 'dataset\\\\Kasthuri++\\\\Train_In\\\\mask1088.png', 'annotation': 'dataset\\\\Kasthuri++\\\\Train_Out\\\\mask1088.png', 'index': 57}, {'image': 'dataset\\\\Kasthuri++\\\\Train_In\\\\mask1089.png', 'annotation': 'dataset\\\\Kasthuri++\\\\Train_Out\\\\mask1089.png', 'index': 58}, {'image': 'dataset\\\\Kasthuri++\\\\Train_In\\\\mask1090.png', 'annotation': 'dataset\\\\Kasthuri++\\\\Train_Out\\\\mask1090.png', 'index': 59}, {'image': 'dataset\\\\Kasthuri++\\\\Train_In\\\\mask1091.png', 'annotation': 'dataset\\\\Kasthuri++\\\\Train_Out\\\\mask1091.png', 'index': 60}, {'image': 'dataset\\\\Kasthuri++\\\\Train_In\\\\mask1092.png', 'annotation': 'dataset\\\\Kasthuri++\\\\Train_Out\\\\mask1092.png', 'index': 61}, {'image': 'dataset\\\\Kasthuri++\\\\Train_In\\\\mask1093.png', 'annotation': 'dataset\\\\Kasthuri++\\\\Train_Out\\\\mask1093.png', 'index': 62}, {'image': 'dataset\\\\Kasthuri++\\\\Train_In\\\\mask1094.png', 'annotation': 'dataset\\\\Kasthuri++\\\\Train_Out\\\\mask1094.png', 'index': 63}, {'image': 'dataset\\\\Kasthuri++\\\\Train_In\\\\mask1095.png', 'annotation': 'dataset\\\\Kasthuri++\\\\Train_Out\\\\mask1095.png', 'index': 64}, {'image': 'dataset\\\\Kasthuri++\\\\Train_In\\\\mask1096.png', 'annotation': 'dataset\\\\Kasthuri++\\\\Train_Out\\\\mask1096.png', 'index': 65}, {'image': 'dataset\\\\Kasthuri++\\\\Train_In\\\\mask1097.png', 'annotation': 'dataset\\\\Kasthuri++\\\\Train_Out\\\\mask1097.png', 'index': 66}, {'image': 'dataset\\\\Kasthuri++\\\\Train_In\\\\mask1098.png', 'annotation': 'dataset\\\\Kasthuri++\\\\Train_Out\\\\mask1098.png', 'index': 67}, {'image': 'dataset\\\\Kasthuri++\\\\Train_In\\\\mask1099.png', 'annotation': 'dataset\\\\Kasthuri++\\\\Train_Out\\\\mask1099.png', 'index': 68}, {'image': 'dataset\\\\Kasthuri++\\\\Train_In\\\\mask1100.png', 'annotation': 'dataset\\\\Kasthuri++\\\\Train_Out\\\\mask1100.png', 'index': 69}, {'image': 'dataset\\\\Kasthuri++\\\\Train_In\\\\mask1101.png', 'annotation': 'dataset\\\\Kasthuri++\\\\Train_Out\\\\mask1101.png', 'index': 70}, {'image': 'dataset\\\\Kasthuri++\\\\Train_In\\\\mask1102.png', 'annotation': 'dataset\\\\Kasthuri++\\\\Train_Out\\\\mask1102.png', 'index': 71}, {'image': 'dataset\\\\Kasthuri++\\\\Train_In\\\\mask1103.png', 'annotation': 'dataset\\\\Kasthuri++\\\\Train_Out\\\\mask1103.png', 'index': 72}, {'image': 'dataset\\\\Kasthuri++\\\\Train_In\\\\mask1104.png', 'annotation': 'dataset\\\\Kasthuri++\\\\Train_Out\\\\mask1104.png', 'index': 73}, {'image': 'dataset\\\\Kasthuri++\\\\Train_In\\\\mask1105.png', 'annotation': 'dataset\\\\Kasthuri++\\\\Train_Out\\\\mask1105.png', 'index': 74}, {'image': 'dataset\\\\Kasthuri++\\\\Train_In\\\\mask1106.png', 'annotation': 'dataset\\\\Kasthuri++\\\\Train_Out\\\\mask1106.png', 'index': 75}, {'image': 'dataset\\\\Kasthuri++\\\\Train_In\\\\mask1107.png', 'annotation': 'dataset\\\\Kasthuri++\\\\Train_Out\\\\mask1107.png', 'index': 76}, {'image': 'dataset\\\\Kasthuri++\\\\Train_In\\\\mask1108.png', 'annotation': 'dataset\\\\Kasthuri++\\\\Train_Out\\\\mask1108.png', 'index': 77}, {'image': 'dataset\\\\Kasthuri++\\\\Train_In\\\\mask1109.png', 'annotation': 'dataset\\\\Kasthuri++\\\\Train_Out\\\\mask1109.png', 'index': 78}, {'image': 'dataset\\\\Kasthuri++\\\\Train_In\\\\mask1110.png', 'annotation': 'dataset\\\\Kasthuri++\\\\Train_Out\\\\mask1110.png', 'index': 79}, {'image': 'dataset\\\\Kasthuri++\\\\Train_In\\\\mask1111.png', 'annotation': 'dataset\\\\Kasthuri++\\\\Train_Out\\\\mask1111.png', 'index': 80}, {'image': 'dataset\\\\Kasthuri++\\\\Train_In\\\\mask1112.png', 'annotation': 'dataset\\\\Kasthuri++\\\\Train_Out\\\\mask1112.png', 'index': 81}, {'image': 'dataset\\\\Kasthuri++\\\\Train_In\\\\mask1113.png', 'annotation': 'dataset\\\\Kasthuri++\\\\Train_Out\\\\mask1113.png', 'index': 82}, {'image': 'dataset\\\\Kasthuri++\\\\Train_In\\\\mask1114.png', 'annotation': 'dataset\\\\Kasthuri++\\\\Train_Out\\\\mask1114.png', 'index': 83}, {'image': 'dataset\\\\Kasthuri++\\\\Train_In\\\\mask1115.png', 'annotation': 'dataset\\\\Kasthuri++\\\\Train_Out\\\\mask1115.png', 'index': 84}]\n",
      "Test Data (Kasthuri++): [{'image': 'dataset\\\\Kasthuri++\\\\Test_In\\\\mask1041.png', 'annotation': 'dataset\\\\Kasthuri++\\\\Test_Out\\\\mask1041.png', 'index': 0}, {'image': 'dataset\\\\Kasthuri++\\\\Test_In\\\\mask1042.png', 'annotation': 'dataset\\\\Kasthuri++\\\\Test_Out\\\\mask1042.png', 'index': 1}, {'image': 'dataset\\\\Kasthuri++\\\\Test_In\\\\mask1043.png', 'annotation': 'dataset\\\\Kasthuri++\\\\Test_Out\\\\mask1043.png', 'index': 2}, {'image': 'dataset\\\\Kasthuri++\\\\Test_In\\\\mask1044.png', 'annotation': 'dataset\\\\Kasthuri++\\\\Test_Out\\\\mask1044.png', 'index': 3}, {'image': 'dataset\\\\Kasthuri++\\\\Test_In\\\\mask1045.png', 'annotation': 'dataset\\\\Kasthuri++\\\\Test_Out\\\\mask1045.png', 'index': 4}, {'image': 'dataset\\\\Kasthuri++\\\\Test_In\\\\mask1046.png', 'annotation': 'dataset\\\\Kasthuri++\\\\Test_Out\\\\mask1046.png', 'index': 5}, {'image': 'dataset\\\\Kasthuri++\\\\Test_In\\\\mask1047.png', 'annotation': 'dataset\\\\Kasthuri++\\\\Test_Out\\\\mask1047.png', 'index': 6}, {'image': 'dataset\\\\Kasthuri++\\\\Test_In\\\\mask1048.png', 'annotation': 'dataset\\\\Kasthuri++\\\\Test_Out\\\\mask1048.png', 'index': 7}, {'image': 'dataset\\\\Kasthuri++\\\\Test_In\\\\mask1049.png', 'annotation': 'dataset\\\\Kasthuri++\\\\Test_Out\\\\mask1049.png', 'index': 8}, {'image': 'dataset\\\\Kasthuri++\\\\Test_In\\\\mask1050.png', 'annotation': 'dataset\\\\Kasthuri++\\\\Test_Out\\\\mask1050.png', 'index': 9}, {'image': 'dataset\\\\Kasthuri++\\\\Test_In\\\\mask1051.png', 'annotation': 'dataset\\\\Kasthuri++\\\\Test_Out\\\\mask1051.png', 'index': 10}, {'image': 'dataset\\\\Kasthuri++\\\\Test_In\\\\mask1052.png', 'annotation': 'dataset\\\\Kasthuri++\\\\Test_Out\\\\mask1052.png', 'index': 11}, {'image': 'dataset\\\\Kasthuri++\\\\Test_In\\\\mask1053.png', 'annotation': 'dataset\\\\Kasthuri++\\\\Test_Out\\\\mask1053.png', 'index': 12}, {'image': 'dataset\\\\Kasthuri++\\\\Test_In\\\\mask1054.png', 'annotation': 'dataset\\\\Kasthuri++\\\\Test_Out\\\\mask1054.png', 'index': 13}, {'image': 'dataset\\\\Kasthuri++\\\\Test_In\\\\mask1055.png', 'annotation': 'dataset\\\\Kasthuri++\\\\Test_Out\\\\mask1055.png', 'index': 14}, {'image': 'dataset\\\\Kasthuri++\\\\Test_In\\\\mask1056.png', 'annotation': 'dataset\\\\Kasthuri++\\\\Test_Out\\\\mask1056.png', 'index': 15}, {'image': 'dataset\\\\Kasthuri++\\\\Test_In\\\\mask1057.png', 'annotation': 'dataset\\\\Kasthuri++\\\\Test_Out\\\\mask1057.png', 'index': 16}, {'image': 'dataset\\\\Kasthuri++\\\\Test_In\\\\mask1058.png', 'annotation': 'dataset\\\\Kasthuri++\\\\Test_Out\\\\mask1058.png', 'index': 17}, {'image': 'dataset\\\\Kasthuri++\\\\Test_In\\\\mask1059.png', 'annotation': 'dataset\\\\Kasthuri++\\\\Test_Out\\\\mask1059.png', 'index': 18}, {'image': 'dataset\\\\Kasthuri++\\\\Test_In\\\\mask1060.png', 'annotation': 'dataset\\\\Kasthuri++\\\\Test_Out\\\\mask1060.png', 'index': 19}, {'image': 'dataset\\\\Kasthuri++\\\\Test_In\\\\mask1061.png', 'annotation': 'dataset\\\\Kasthuri++\\\\Test_Out\\\\mask1061.png', 'index': 20}, {'image': 'dataset\\\\Kasthuri++\\\\Test_In\\\\mask1062.png', 'annotation': 'dataset\\\\Kasthuri++\\\\Test_Out\\\\mask1062.png', 'index': 21}, {'image': 'dataset\\\\Kasthuri++\\\\Test_In\\\\mask1063.png', 'annotation': 'dataset\\\\Kasthuri++\\\\Test_Out\\\\mask1063.png', 'index': 22}, {'image': 'dataset\\\\Kasthuri++\\\\Test_In\\\\mask1064.png', 'annotation': 'dataset\\\\Kasthuri++\\\\Test_Out\\\\mask1064.png', 'index': 23}, {'image': 'dataset\\\\Kasthuri++\\\\Test_In\\\\mask1065.png', 'annotation': 'dataset\\\\Kasthuri++\\\\Test_Out\\\\mask1065.png', 'index': 24}, {'image': 'dataset\\\\Kasthuri++\\\\Test_In\\\\mask1066.png', 'annotation': 'dataset\\\\Kasthuri++\\\\Test_Out\\\\mask1066.png', 'index': 25}, {'image': 'dataset\\\\Kasthuri++\\\\Test_In\\\\mask1067.png', 'annotation': 'dataset\\\\Kasthuri++\\\\Test_Out\\\\mask1067.png', 'index': 26}, {'image': 'dataset\\\\Kasthuri++\\\\Test_In\\\\mask1068.png', 'annotation': 'dataset\\\\Kasthuri++\\\\Test_Out\\\\mask1068.png', 'index': 27}, {'image': 'dataset\\\\Kasthuri++\\\\Test_In\\\\mask1069.png', 'annotation': 'dataset\\\\Kasthuri++\\\\Test_Out\\\\mask1069.png', 'index': 28}, {'image': 'dataset\\\\Kasthuri++\\\\Test_In\\\\mask1070.png', 'annotation': 'dataset\\\\Kasthuri++\\\\Test_Out\\\\mask1070.png', 'index': 29}, {'image': 'dataset\\\\Kasthuri++\\\\Test_In\\\\mask1071.png', 'annotation': 'dataset\\\\Kasthuri++\\\\Test_Out\\\\mask1071.png', 'index': 30}, {'image': 'dataset\\\\Kasthuri++\\\\Test_In\\\\mask1072.png', 'annotation': 'dataset\\\\Kasthuri++\\\\Test_Out\\\\mask1072.png', 'index': 31}, {'image': 'dataset\\\\Kasthuri++\\\\Test_In\\\\mask1073.png', 'annotation': 'dataset\\\\Kasthuri++\\\\Test_Out\\\\mask1073.png', 'index': 32}, {'image': 'dataset\\\\Kasthuri++\\\\Test_In\\\\mask1074.png', 'annotation': 'dataset\\\\Kasthuri++\\\\Test_Out\\\\mask1074.png', 'index': 33}, {'image': 'dataset\\\\Kasthuri++\\\\Test_In\\\\mask1075.png', 'annotation': 'dataset\\\\Kasthuri++\\\\Test_Out\\\\mask1075.png', 'index': 34}, {'image': 'dataset\\\\Kasthuri++\\\\Test_In\\\\mask1076.png', 'annotation': 'dataset\\\\Kasthuri++\\\\Test_Out\\\\mask1076.png', 'index': 35}, {'image': 'dataset\\\\Kasthuri++\\\\Test_In\\\\mask1077.png', 'annotation': 'dataset\\\\Kasthuri++\\\\Test_Out\\\\mask1077.png', 'index': 36}, {'image': 'dataset\\\\Kasthuri++\\\\Test_In\\\\mask1078.png', 'annotation': 'dataset\\\\Kasthuri++\\\\Test_Out\\\\mask1078.png', 'index': 37}, {'image': 'dataset\\\\Kasthuri++\\\\Test_In\\\\mask1079.png', 'annotation': 'dataset\\\\Kasthuri++\\\\Test_Out\\\\mask1079.png', 'index': 38}, {'image': 'dataset\\\\Kasthuri++\\\\Test_In\\\\mask1080.png', 'annotation': 'dataset\\\\Kasthuri++\\\\Test_Out\\\\mask1080.png', 'index': 39}, {'image': 'dataset\\\\Kasthuri++\\\\Test_In\\\\mask1081.png', 'annotation': 'dataset\\\\Kasthuri++\\\\Test_Out\\\\mask1081.png', 'index': 40}, {'image': 'dataset\\\\Kasthuri++\\\\Test_In\\\\mask1082.png', 'annotation': 'dataset\\\\Kasthuri++\\\\Test_Out\\\\mask1082.png', 'index': 41}, {'image': 'dataset\\\\Kasthuri++\\\\Test_In\\\\mask1083.png', 'annotation': 'dataset\\\\Kasthuri++\\\\Test_Out\\\\mask1083.png', 'index': 42}, {'image': 'dataset\\\\Kasthuri++\\\\Test_In\\\\mask1084.png', 'annotation': 'dataset\\\\Kasthuri++\\\\Test_Out\\\\mask1084.png', 'index': 43}, {'image': 'dataset\\\\Kasthuri++\\\\Test_In\\\\mask1085.png', 'annotation': 'dataset\\\\Kasthuri++\\\\Test_Out\\\\mask1085.png', 'index': 44}, {'image': 'dataset\\\\Kasthuri++\\\\Test_In\\\\mask1086.png', 'annotation': 'dataset\\\\Kasthuri++\\\\Test_Out\\\\mask1086.png', 'index': 45}, {'image': 'dataset\\\\Kasthuri++\\\\Test_In\\\\mask1087.png', 'annotation': 'dataset\\\\Kasthuri++\\\\Test_Out\\\\mask1087.png', 'index': 46}, {'image': 'dataset\\\\Kasthuri++\\\\Test_In\\\\mask1088.png', 'annotation': 'dataset\\\\Kasthuri++\\\\Test_Out\\\\mask1088.png', 'index': 47}, {'image': 'dataset\\\\Kasthuri++\\\\Test_In\\\\mask1089.png', 'annotation': 'dataset\\\\Kasthuri++\\\\Test_Out\\\\mask1089.png', 'index': 48}, {'image': 'dataset\\\\Kasthuri++\\\\Test_In\\\\mask1090.png', 'annotation': 'dataset\\\\Kasthuri++\\\\Test_Out\\\\mask1090.png', 'index': 49}, {'image': 'dataset\\\\Kasthuri++\\\\Test_In\\\\mask1091.png', 'annotation': 'dataset\\\\Kasthuri++\\\\Test_Out\\\\mask1091.png', 'index': 50}, {'image': 'dataset\\\\Kasthuri++\\\\Test_In\\\\mask1092.png', 'annotation': 'dataset\\\\Kasthuri++\\\\Test_Out\\\\mask1092.png', 'index': 51}, {'image': 'dataset\\\\Kasthuri++\\\\Test_In\\\\mask1093.png', 'annotation': 'dataset\\\\Kasthuri++\\\\Test_Out\\\\mask1093.png', 'index': 52}, {'image': 'dataset\\\\Kasthuri++\\\\Test_In\\\\mask1094.png', 'annotation': 'dataset\\\\Kasthuri++\\\\Test_Out\\\\mask1094.png', 'index': 53}, {'image': 'dataset\\\\Kasthuri++\\\\Test_In\\\\mask1095.png', 'annotation': 'dataset\\\\Kasthuri++\\\\Test_Out\\\\mask1095.png', 'index': 54}, {'image': 'dataset\\\\Kasthuri++\\\\Test_In\\\\mask1096.png', 'annotation': 'dataset\\\\Kasthuri++\\\\Test_Out\\\\mask1096.png', 'index': 55}, {'image': 'dataset\\\\Kasthuri++\\\\Test_In\\\\mask1097.png', 'annotation': 'dataset\\\\Kasthuri++\\\\Test_Out\\\\mask1097.png', 'index': 56}, {'image': 'dataset\\\\Kasthuri++\\\\Test_In\\\\mask1098.png', 'annotation': 'dataset\\\\Kasthuri++\\\\Test_Out\\\\mask1098.png', 'index': 57}, {'image': 'dataset\\\\Kasthuri++\\\\Test_In\\\\mask1099.png', 'annotation': 'dataset\\\\Kasthuri++\\\\Test_Out\\\\mask1099.png', 'index': 58}, {'image': 'dataset\\\\Kasthuri++\\\\Test_In\\\\mask1100.png', 'annotation': 'dataset\\\\Kasthuri++\\\\Test_Out\\\\mask1100.png', 'index': 59}, {'image': 'dataset\\\\Kasthuri++\\\\Test_In\\\\mask1101.png', 'annotation': 'dataset\\\\Kasthuri++\\\\Test_Out\\\\mask1101.png', 'index': 60}, {'image': 'dataset\\\\Kasthuri++\\\\Test_In\\\\mask1102.png', 'annotation': 'dataset\\\\Kasthuri++\\\\Test_Out\\\\mask1102.png', 'index': 61}, {'image': 'dataset\\\\Kasthuri++\\\\Test_In\\\\mask1103.png', 'annotation': 'dataset\\\\Kasthuri++\\\\Test_Out\\\\mask1103.png', 'index': 62}, {'image': 'dataset\\\\Kasthuri++\\\\Test_In\\\\mask1104.png', 'annotation': 'dataset\\\\Kasthuri++\\\\Test_Out\\\\mask1104.png', 'index': 63}, {'image': 'dataset\\\\Kasthuri++\\\\Test_In\\\\mask1105.png', 'annotation': 'dataset\\\\Kasthuri++\\\\Test_Out\\\\mask1105.png', 'index': 64}, {'image': 'dataset\\\\Kasthuri++\\\\Test_In\\\\mask1106.png', 'annotation': 'dataset\\\\Kasthuri++\\\\Test_Out\\\\mask1106.png', 'index': 65}, {'image': 'dataset\\\\Kasthuri++\\\\Test_In\\\\mask1107.png', 'annotation': 'dataset\\\\Kasthuri++\\\\Test_Out\\\\mask1107.png', 'index': 66}, {'image': 'dataset\\\\Kasthuri++\\\\Test_In\\\\mask1108.png', 'annotation': 'dataset\\\\Kasthuri++\\\\Test_Out\\\\mask1108.png', 'index': 67}, {'image': 'dataset\\\\Kasthuri++\\\\Test_In\\\\mask1109.png', 'annotation': 'dataset\\\\Kasthuri++\\\\Test_Out\\\\mask1109.png', 'index': 68}, {'image': 'dataset\\\\Kasthuri++\\\\Test_In\\\\mask1110.png', 'annotation': 'dataset\\\\Kasthuri++\\\\Test_Out\\\\mask1110.png', 'index': 69}, {'image': 'dataset\\\\Kasthuri++\\\\Test_In\\\\mask1111.png', 'annotation': 'dataset\\\\Kasthuri++\\\\Test_Out\\\\mask1111.png', 'index': 70}, {'image': 'dataset\\\\Kasthuri++\\\\Test_In\\\\mask1112.png', 'annotation': 'dataset\\\\Kasthuri++\\\\Test_Out\\\\mask1112.png', 'index': 71}, {'image': 'dataset\\\\Kasthuri++\\\\Test_In\\\\mask1113.png', 'annotation': 'dataset\\\\Kasthuri++\\\\Test_Out\\\\mask1113.png', 'index': 72}, {'image': 'dataset\\\\Kasthuri++\\\\Test_In\\\\mask1114.png', 'annotation': 'dataset\\\\Kasthuri++\\\\Test_Out\\\\mask1114.png', 'index': 73}, {'image': 'dataset\\\\Kasthuri++\\\\Test_In\\\\mask1115.png', 'annotation': 'dataset\\\\Kasthuri++\\\\Test_Out\\\\mask1115.png', 'index': 74}]\n",
      "训练样本数量: 85\n",
      "测试样本数量: 75\n",
      "开始数据集预处理...\n"
     ]
    },
    {
     "name": "stderr",
     "output_type": "stream",
     "text": [
      "处理图像: 100%|██████████| 85/85 [00:30<00:00,  2.75it/s]\n"
     ]
    },
    {
     "name": "stdout",
     "output_type": "stream",
     "text": [
      "数据集预处理完成，共生成 12595 个patch\n",
      "开始数据集预处理...\n"
     ]
    },
    {
     "name": "stderr",
     "output_type": "stream",
     "text": [
      "处理图像: 100%|██████████| 75/75 [00:28<00:00,  2.64it/s]"
     ]
    },
    {
     "name": "stdout",
     "output_type": "stream",
     "text": [
      "数据集预处理完成，共生成 9289 个patch\n"
     ]
    },
    {
     "name": "stderr",
     "output_type": "stream",
     "text": [
      "\n"
     ]
    }
   ],
   "source": [
    "train_data, test_data = prepare_dataset(\"Kasthuri++\")\n",
    "# train_data, test_data = prepare_dataset(\"Lucchi++\")\n",
    "\n",
    "# 第一次运行时：预处理并保存\n",
    "train_dataset = SegmentationDataset(\n",
    "    data_list=train_data,\n",
    "    patch_size=256,\n",
    "    stride=128,\n",
    "    preProcess=True,  # 启用预处理\n",
    "\n",
    ")\n",
    "\n",
    "test_dataset = SegmentationDataset(\n",
    "    data_list=test_data,\n",
    "    patch_size=256,\n",
    "    stride=128,\n",
    "    preProcess=True,  # 启用预处理\n",
    "\n",
    ")\n",
    "\n",
    "train_loader, test_loader = get_optimized_loaders(\n",
    "    train_dataset, \n",
    "    test_dataset, \n",
    "    batch_size=32,  # 增加批大小\n",
    "    num_workers=4\n",
    ")\n",
    "\n"
   ]
  },
  {
   "cell_type": "markdown",
   "metadata": {},
   "source": [
    "### 训练Unet模型阶段"
   ]
  },
  {
   "cell_type": "code",
   "execution_count": 3,
   "metadata": {},
   "outputs": [
    {
     "name": "stdout",
     "output_type": "stream",
     "text": [
      "cuda\n"
     ]
    }
   ],
   "source": [
    "# Initialize model\n",
    "device = torch.device(\"cuda\" if torch.cuda.is_available() else \"cpu\")\n",
    "print(device)\n",
    "model = UNet(num_classes=1).to(device)"
   ]
  },
  {
   "cell_type": "markdown",
   "metadata": {},
   "source": [
    "#### 开始训练"
   ]
  },
  {
   "cell_type": "code",
   "execution_count": 4,
   "metadata": {},
   "outputs": [
    {
     "name": "stdout",
     "output_type": "stream",
     "text": [
      "Epoch 1/50:\n",
      "Training - Loss: 0.2372, IoU: 0.4543, Dice: 0.6032\n",
      "Validation - Loss: 0.0861, IoU: 0.5724, Dice: 0.7003\n",
      "------------------------------------------------------------\n",
      "Epoch 2/50:\n",
      "Training - Loss: 0.0638, IoU: 0.6778, Dice: 0.8062\n",
      "Validation - Loss: 0.0565, IoU: 0.6203, Dice: 0.7403\n",
      "------------------------------------------------------------\n",
      "Epoch 3/50:\n",
      "Training - Loss: 0.0448, IoU: 0.7323, Dice: 0.8439\n",
      "Validation - Loss: 0.0501, IoU: 0.6416, Dice: 0.7583\n",
      "------------------------------------------------------------\n",
      "Epoch 4/50:\n",
      "Training - Loss: 0.0363, IoU: 0.7758, Dice: 0.8728\n",
      "Validation - Loss: 0.0490, IoU: 0.6366, Dice: 0.7530\n",
      "------------------------------------------------------------\n",
      "Epoch 5/50:\n",
      "Training - Loss: 0.0313, IoU: 0.8068, Dice: 0.8925\n",
      "Validation - Loss: 0.0479, IoU: 0.6539, Dice: 0.7672\n",
      "------------------------------------------------------------\n",
      "Epoch 6/50:\n",
      "Training - Loss: 0.0279, IoU: 0.8297, Dice: 0.9064\n",
      "Validation - Loss: 0.0483, IoU: 0.6653, Dice: 0.7762\n",
      "------------------------------------------------------------\n",
      "Epoch 7/50:\n",
      "Training - Loss: 0.0271, IoU: 0.8340, Dice: 0.9090\n",
      "Validation - Loss: 0.0495, IoU: 0.6489, Dice: 0.7637\n",
      "------------------------------------------------------------\n",
      "Epoch 8/50:\n",
      "Training - Loss: 0.0258, IoU: 0.8408, Dice: 0.9129\n",
      "Validation - Loss: 0.0524, IoU: 0.6609, Dice: 0.7716\n",
      "------------------------------------------------------------\n",
      "Epoch 9/50:\n",
      "Training - Loss: 0.0253, IoU: 0.8452, Dice: 0.9157\n",
      "Validation - Loss: 0.0508, IoU: 0.6675, Dice: 0.7774\n",
      "------------------------------------------------------------\n",
      "Epoch 10/50:\n",
      "Training - Loss: 0.0248, IoU: 0.8480, Dice: 0.9172\n",
      "Validation - Loss: 0.0514, IoU: 0.6634, Dice: 0.7743\n",
      "------------------------------------------------------------\n",
      "Epoch 11/50:\n",
      "Training - Loss: 0.0236, IoU: 0.8583, Dice: 0.9233\n",
      "Validation - Loss: 0.0522, IoU: 0.6684, Dice: 0.7791\n",
      "------------------------------------------------------------\n",
      "Epoch 12/50:\n",
      "Training - Loss: 0.0230, IoU: 0.8628, Dice: 0.9259\n",
      "Validation - Loss: 0.0544, IoU: 0.6732, Dice: 0.7820\n",
      "------------------------------------------------------------\n",
      "Epoch 13/50:\n",
      "Training - Loss: 0.0227, IoU: 0.8657, Dice: 0.9277\n",
      "Validation - Loss: 0.0555, IoU: 0.6706, Dice: 0.7795\n",
      "------------------------------------------------------------\n",
      "Epoch 14/50:\n",
      "Training - Loss: 0.0226, IoU: 0.8662, Dice: 0.9279\n",
      "Validation - Loss: 0.0566, IoU: 0.6672, Dice: 0.7781\n",
      "------------------------------------------------------------\n",
      "Epoch 15/50:\n",
      "Training - Loss: 0.0225, IoU: 0.8667, Dice: 0.9282\n",
      "Validation - Loss: 0.0558, IoU: 0.6719, Dice: 0.7816\n",
      "------------------------------------------------------------\n",
      "Epoch 16/50:\n",
      "Training - Loss: 0.0222, IoU: 0.8698, Dice: 0.9301\n",
      "Validation - Loss: 0.0574, IoU: 0.6708, Dice: 0.7801\n",
      "------------------------------------------------------------\n",
      "Epoch 17/50:\n",
      "Training - Loss: 0.0223, IoU: 0.8687, Dice: 0.9294\n",
      "Validation - Loss: 0.0616, IoU: 0.6528, Dice: 0.7655\n",
      "------------------------------------------------------------\n",
      "Epoch 18/50:\n",
      "Training - Loss: 0.0221, IoU: 0.8707, Dice: 0.9306\n",
      "Validation - Loss: 0.0581, IoU: 0.6706, Dice: 0.7800\n",
      "------------------------------------------------------------\n"
     ]
    },
    {
     "ename": "KeyboardInterrupt",
     "evalue": "",
     "output_type": "error",
     "traceback": [
      "\u001b[1;31m---------------------------------------------------------------------------\u001b[0m",
      "\u001b[1;31mKeyboardInterrupt\u001b[0m                         Traceback (most recent call last)",
      "Cell \u001b[1;32mIn[4], line 1\u001b[0m\n\u001b[1;32m----> 1\u001b[0m \u001b[43moptimized_train_model\u001b[49m\u001b[43m(\u001b[49m\u001b[43mmodel\u001b[49m\u001b[43m,\u001b[49m\u001b[43m \u001b[49m\u001b[43mtrain_loader\u001b[49m\u001b[43m,\u001b[49m\u001b[43m \u001b[49m\u001b[43mtest_loader\u001b[49m\u001b[43m,\u001b[49m\u001b[43m \u001b[49m\u001b[43mnum_epochs\u001b[49m\u001b[38;5;241;43m=\u001b[39;49m\u001b[38;5;241;43m50\u001b[39;49m\u001b[43m,\u001b[49m\u001b[43m \u001b[49m\u001b[43mdevice\u001b[49m\u001b[38;5;241;43m=\u001b[39;49m\u001b[43mdevice\u001b[49m\u001b[43m)\u001b[49m\n",
      "File \u001b[1;32me:\\GitHubDesktopPath\\sam2\\functions\\model.py:494\u001b[0m, in \u001b[0;36moptimized_train_model\u001b[1;34m(model, train_loader, val_loader, num_epochs, device, batch_accumulation, pin_memory)\u001b[0m\n\u001b[0;32m    491\u001b[0m     optimizer\u001b[38;5;241m.\u001b[39mzero_grad()\n\u001b[0;32m    493\u001b[0m pred_masks \u001b[38;5;241m=\u001b[39m (torch\u001b[38;5;241m.\u001b[39msigmoid(outputs) \u001b[38;5;241m>\u001b[39m \u001b[38;5;241m0.5\u001b[39m)\u001b[38;5;241m.\u001b[39mfloat()\n\u001b[1;32m--> 494\u001b[0m iou, dice \u001b[38;5;241m=\u001b[39m \u001b[43mcalculate_metrics\u001b[49m\u001b[43m(\u001b[49m\u001b[43mpred_masks\u001b[49m\u001b[43m,\u001b[49m\u001b[43m \u001b[49m\u001b[43mmask_patches\u001b[49m\u001b[43m)\u001b[49m\n\u001b[0;32m    496\u001b[0m train_loss \u001b[38;5;241m+\u001b[39m\u001b[38;5;241m=\u001b[39m loss\u001b[38;5;241m.\u001b[39mitem() \u001b[38;5;241m*\u001b[39m batch_accumulation\n\u001b[0;32m    497\u001b[0m train_iou \u001b[38;5;241m+\u001b[39m\u001b[38;5;241m=\u001b[39m iou\n",
      "File \u001b[1;32me:\\GitHubDesktopPath\\sam2\\functions\\model.py:340\u001b[0m, in \u001b[0;36mcalculate_metrics\u001b[1;34m(pred_mask, true_mask, threshold)\u001b[0m\n\u001b[0;32m    337\u001b[0m \u001b[38;5;66;03m# Calculate Dice coefficient\u001b[39;00m\n\u001b[0;32m    338\u001b[0m dice \u001b[38;5;241m=\u001b[39m (\u001b[38;5;241m2.\u001b[39m \u001b[38;5;241m*\u001b[39m intersection \u001b[38;5;241m+\u001b[39m \u001b[38;5;241m1e-7\u001b[39m) \u001b[38;5;241m/\u001b[39m (pred_mask\u001b[38;5;241m.\u001b[39msum() \u001b[38;5;241m+\u001b[39m true_mask\u001b[38;5;241m.\u001b[39msum() \u001b[38;5;241m+\u001b[39m \u001b[38;5;241m1e-7\u001b[39m)\n\u001b[1;32m--> 340\u001b[0m \u001b[38;5;28;01mreturn\u001b[39;00m \u001b[43miou\u001b[49m\u001b[38;5;241;43m.\u001b[39;49m\u001b[43mitem\u001b[49m\u001b[43m(\u001b[49m\u001b[43m)\u001b[49m, dice\u001b[38;5;241m.\u001b[39mitem()\n",
      "\u001b[1;31mKeyboardInterrupt\u001b[0m: "
     ]
    }
   ],
   "source": [
    "optimized_train_model(model, train_loader, test_loader, num_epochs=50, device=device)\n"
   ]
  },
  {
   "cell_type": "markdown",
   "metadata": {},
   "source": [
    "#### 可选保存模型"
   ]
  },
  {
   "cell_type": "code",
   "execution_count": null,
   "metadata": {},
   "outputs": [],
   "source": [
    "# Save model\n",
    "torch.save(model.state_dict(), \"models/UnetTrain/overlaping_unet_segmentation_try4.2V0A1K.pth\")"
   ]
  },
  {
   "cell_type": "markdown",
   "metadata": {},
   "source": [
    "### 测试model性能"
   ]
  },
  {
   "cell_type": "code",
   "execution_count": 3,
   "metadata": {},
   "outputs": [
    {
     "name": "stdout",
     "output_type": "stream",
     "text": [
      "\n",
      "=== 处理图像: mask0022 ===\n",
      "设备: cuda, 模型: overlaping_unet_segmentation_try4.13k_random2_iou.pth\n",
      "Patch尺寸: 256, 步长: 128\n",
      "模型已从 models/UnetTrain/overlaping_unet_segmentation_try4.13k_random2_iou.pth 加载\n",
      "掩码检测: 前景值=255, 形状=(768, 1024)\n",
      "评估指标: IoU=0.7322, Dice=0.8454\n",
      "评估结果: IoU=0.7265, Dice=0.8416\n",
      "最终评估指标: IoU=0.7265, Dice=0.8416\n"
     ]
    },
    {
     "data": {
      "image/png": "[encoded data removed]",
      "text/plain": [
       "<Figure size 640x480 with 1 Axes>"
      ]
     },
     "metadata": {},
     "output_type": "display_data"
    }
   ],
   "source": [
    "## 4.2最新的predict全流程设置\n",
    "# 设置参数\n",
    "model_path = \"models/UnetTrain/overlaping_unet_segmentation_try4.13k_random2_iou.pth\"  # 模型路径\n",
    "\n",
    "image_path = \"dataset/Lucchi++/Test_In/mask0022.png\"  # 测试图片路径\n",
    "mask_path = \"dataset/Lucchi++/Test_Out/22.png\"  # 真实掩码路径（如果有）\n",
    "\n",
    "# image_path = \"dataset/Kasthuri++/Test_In/mask1049.png\"  \n",
    "# mask_path = \"dataset/Kasthuri++/Test_Out/mask1049.png\"  \n",
    "\n",
    "\n",
    "# image_path = \"dataset/VNC/Test_In/16.tif\"  \n",
    "# mask_path = \"dataset/VNC/Test_Out/16.png\"  \n",
    "\n",
    "save_dir = \"test/predictData\"  # 结果保存目录\n",
    "patch_size = 256  # patch大小\n",
    "stride = 128  # 步长\n",
    "\n",
    "# 执行分割流程\n",
    "pred_mask, metrics = segmentation_pipeline(\n",
    "    model_path=model_path,\n",
    "    image_path=image_path,\n",
    "    mask_path=mask_path,\n",
    "    save_dir=save_dir,\n",
    "    patch_size=patch_size,\n",
    "    stride=stride,\n",
    "    value=-30,\n",
    "    alpha=1.0\n",
    ")\n",
    "\n",
    "if metrics:\n",
    "    print(f\"最终评估指标: IoU={metrics['IoU']:.4f}, Dice={metrics['Dice']:.4f}\")\n",
    "    \n",
    "plt.imshow(pred_mask)\n",
    "plt.show()"
   ]
  },
  {
   "cell_type": "code",
   "execution_count": null,
   "metadata": {},
   "outputs": [
    {
     "name": "stdout",
     "output_type": "stream",
     "text": [
      "\n",
      "开始批量处理 3 张图像...\n",
      "\n",
      "处理图像 1/3: img1\n",
      "处理图像: img1\n",
      "使用设备: cuda\n",
      "模型路径: models/UnetTrain/overlaping_unet_segmentation_try4.2.2L_random_iou.pth\n"
     ]
    },
    {
     "ename": "FileNotFoundError",
     "evalue": "[Errno 2] No such file or directory: 'models/UnetTrain/overlaping_unet_segmentation_try4.2.2L_random_iou.pth'",
     "output_type": "error",
     "traceback": [
      "\u001b[1;31m---------------------------------------------------------------------------\u001b[0m",
      "\u001b[1;31mFileNotFoundError\u001b[0m                         Traceback (most recent call last)",
      "Cell \u001b[1;32mIn[5], line 5\u001b[0m\n\u001b[0;32m      2\u001b[0m image_list \u001b[38;5;241m=\u001b[39m [\u001b[38;5;124m\"\u001b[39m\u001b[38;5;124mimg1.png\u001b[39m\u001b[38;5;124m\"\u001b[39m, \u001b[38;5;124m\"\u001b[39m\u001b[38;5;124mimg2.png\u001b[39m\u001b[38;5;124m\"\u001b[39m, \u001b[38;5;124m\"\u001b[39m\u001b[38;5;124mimg3.png\u001b[39m\u001b[38;5;124m\"\u001b[39m]\n\u001b[0;32m      3\u001b[0m mask_list \u001b[38;5;241m=\u001b[39m [\u001b[38;5;124m\"\u001b[39m\u001b[38;5;124mmask1.png\u001b[39m\u001b[38;5;124m\"\u001b[39m, \u001b[38;5;124m\"\u001b[39m\u001b[38;5;124mmask2.png\u001b[39m\u001b[38;5;124m\"\u001b[39m, \u001b[38;5;124m\"\u001b[39m\u001b[38;5;124mmask3.png\u001b[39m\u001b[38;5;124m\"\u001b[39m]\n\u001b[1;32m----> 5\u001b[0m results \u001b[38;5;241m=\u001b[39m \u001b[43mbatch_segmentation_pipeline\u001b[49m\u001b[43m(\u001b[49m\n\u001b[0;32m      6\u001b[0m \u001b[43m    \u001b[49m\u001b[43mmodel_path\u001b[49m\u001b[38;5;241;43m=\u001b[39;49m\u001b[38;5;124;43m\"\u001b[39;49m\u001b[38;5;124;43mmodels/UnetTrain/overlaping_unet_segmentation_try4.2.2L_random_iou.pth\u001b[39;49m\u001b[38;5;124;43m\"\u001b[39;49m\u001b[43m,\u001b[49m\n\u001b[0;32m      7\u001b[0m \u001b[43m    \u001b[49m\u001b[43mimage_paths\u001b[49m\u001b[38;5;241;43m=\u001b[39;49m\u001b[43mimage_list\u001b[49m\u001b[43m,\u001b[49m\n\u001b[0;32m      8\u001b[0m \u001b[43m    \u001b[49m\u001b[43mmask_paths\u001b[49m\u001b[38;5;241;43m=\u001b[39;49m\u001b[43mmask_list\u001b[49m\u001b[43m,\u001b[49m\n\u001b[0;32m      9\u001b[0m \u001b[43m    \u001b[49m\u001b[43msave_dir\u001b[49m\u001b[38;5;241;43m=\u001b[39;49m\u001b[38;5;124;43m\"\u001b[39;49m\u001b[38;5;124;43mtest/batch_predictData\u001b[39;49m\u001b[38;5;124;43m\"\u001b[39;49m\u001b[43m,\u001b[49m\n\u001b[0;32m     10\u001b[0m \u001b[43m    \u001b[49m\u001b[43mpatch_size\u001b[49m\u001b[38;5;241;43m=\u001b[39;49m\u001b[38;5;241;43m256\u001b[39;49m\u001b[43m,\u001b[49m\n\u001b[0;32m     11\u001b[0m \u001b[43m    \u001b[49m\u001b[43mstride\u001b[49m\u001b[38;5;241;43m=\u001b[39;49m\u001b[38;5;241;43m128\u001b[39;49m\u001b[43m,\u001b[49m\n\u001b[0;32m     12\u001b[0m \u001b[43m    \u001b[49m\u001b[43mvalue\u001b[49m\u001b[38;5;241;43m=\u001b[39;49m\u001b[38;5;241;43m-\u001b[39;49m\u001b[38;5;241;43m30\u001b[39;49m\u001b[43m,\u001b[49m\n\u001b[0;32m     13\u001b[0m \u001b[43m    \u001b[49m\u001b[43malpha\u001b[49m\u001b[38;5;241;43m=\u001b[39;49m\u001b[38;5;241;43m1.0\u001b[39;49m\n\u001b[0;32m     14\u001b[0m \u001b[43m)\u001b[49m\n",
      "File \u001b[1;32me:\\GitHubDesktopPath\\sam2\\functions\\model.py:1151\u001b[0m, in \u001b[0;36mbatch_segmentation_pipeline\u001b[1;34m(model_path, image_paths, mask_paths, save_dir, patch_size, stride, value, alpha, device)\u001b[0m\n\u001b[0;32m   1148\u001b[0m mask_path \u001b[38;5;241m=\u001b[39m mask_path_list[i] \u001b[38;5;28;01mif\u001b[39;00m mask_path_list \u001b[38;5;28;01melse\u001b[39;00m \u001b[38;5;28;01mNone\u001b[39;00m\n\u001b[0;32m   1150\u001b[0m \u001b[38;5;66;03m# 执行分割流程\u001b[39;00m\n\u001b[1;32m-> 1151\u001b[0m _, metrics \u001b[38;5;241m=\u001b[39m \u001b[43msegmentation_pipeline\u001b[49m\u001b[43m(\u001b[49m\n\u001b[0;32m   1152\u001b[0m \u001b[43m    \u001b[49m\u001b[43mmodel_path\u001b[49m\u001b[38;5;241;43m=\u001b[39;49m\u001b[43mmodel_path\u001b[49m\u001b[43m,\u001b[49m\n\u001b[0;32m   1153\u001b[0m \u001b[43m    \u001b[49m\u001b[43mimage_path\u001b[49m\u001b[38;5;241;43m=\u001b[39;49m\u001b[43mimg_path\u001b[49m\u001b[43m,\u001b[49m\n\u001b[0;32m   1154\u001b[0m \u001b[43m    \u001b[49m\u001b[43mmask_path\u001b[49m\u001b[38;5;241;43m=\u001b[39;49m\u001b[43mmask_path\u001b[49m\u001b[43m,\u001b[49m\n\u001b[0;32m   1155\u001b[0m \u001b[43m    \u001b[49m\u001b[43msave_dir\u001b[49m\u001b[38;5;241;43m=\u001b[39;49m\u001b[43mimg_save_dir\u001b[49m\u001b[43m,\u001b[49m\n\u001b[0;32m   1156\u001b[0m \u001b[43m    \u001b[49m\u001b[43mpatch_size\u001b[49m\u001b[38;5;241;43m=\u001b[39;49m\u001b[43mpatch_size\u001b[49m\u001b[43m,\u001b[49m\n\u001b[0;32m   1157\u001b[0m \u001b[43m    \u001b[49m\u001b[43mstride\u001b[49m\u001b[38;5;241;43m=\u001b[39;49m\u001b[43mstride\u001b[49m\u001b[43m,\u001b[49m\n\u001b[0;32m   1158\u001b[0m \u001b[43m    \u001b[49m\u001b[43mvalue\u001b[49m\u001b[38;5;241;43m=\u001b[39;49m\u001b[43mvalue\u001b[49m\u001b[43m,\u001b[49m\n\u001b[0;32m   1159\u001b[0m \u001b[43m    \u001b[49m\u001b[43malpha\u001b[49m\u001b[38;5;241;43m=\u001b[39;49m\u001b[43malpha\u001b[49m\u001b[43m,\u001b[49m\n\u001b[0;32m   1160\u001b[0m \u001b[43m    \u001b[49m\u001b[43mdevice\u001b[49m\u001b[38;5;241;43m=\u001b[39;49m\u001b[43mdevice\u001b[49m\n\u001b[0;32m   1161\u001b[0m \u001b[43m\u001b[49m\u001b[43m)\u001b[49m\n\u001b[0;32m   1163\u001b[0m \u001b[38;5;66;03m# 收集指标\u001b[39;00m\n\u001b[0;32m   1164\u001b[0m \u001b[38;5;28;01mif\u001b[39;00m metrics:\n",
      "File \u001b[1;32me:\\GitHubDesktopPath\\sam2\\functions\\model.py:883\u001b[0m, in \u001b[0;36msegmentation_pipeline\u001b[1;34m(model_path, image_path, mask_path, save_dir, patch_size, stride, value, alpha, device)\u001b[0m\n\u001b[0;32m    880\u001b[0m \u001b[38;5;28mprint\u001b[39m(\u001b[38;5;124mf\u001b[39m\u001b[38;5;124m\"\u001b[39m\u001b[38;5;124m模型路径: \u001b[39m\u001b[38;5;132;01m{\u001b[39;00mmodel_path\u001b[38;5;132;01m}\u001b[39;00m\u001b[38;5;124m\"\u001b[39m)\n\u001b[0;32m    882\u001b[0m \u001b[38;5;66;03m# 1. 加载模型\u001b[39;00m\n\u001b[1;32m--> 883\u001b[0m model \u001b[38;5;241m=\u001b[39m \u001b[43mload_model\u001b[49m\u001b[43m(\u001b[49m\u001b[43mmodel_path\u001b[49m\u001b[43m,\u001b[49m\u001b[43m \u001b[49m\u001b[43mdevice\u001b[49m\u001b[43m)\u001b[49m\n\u001b[0;32m    885\u001b[0m \u001b[38;5;66;03m# 2. 读取图像和掩码\u001b[39;00m\n\u001b[0;32m    886\u001b[0m \u001b[38;5;66;03m# 读取原始图像\u001b[39;00m\n\u001b[0;32m    887\u001b[0m original_img \u001b[38;5;241m=\u001b[39m cv2\u001b[38;5;241m.\u001b[39mimread(image_path)\n",
      "File \u001b[1;32me:\\GitHubDesktopPath\\sam2\\functions\\model.py:310\u001b[0m, in \u001b[0;36mload_model\u001b[1;34m(model_path, device)\u001b[0m\n\u001b[0;32m    307\u001b[0m model \u001b[38;5;241m=\u001b[39m UNet(num_classes\u001b[38;5;241m=\u001b[39m\u001b[38;5;241m1\u001b[39m)\n\u001b[0;32m    309\u001b[0m \u001b[38;5;66;03m# 加载模型权重\u001b[39;00m\n\u001b[1;32m--> 310\u001b[0m model\u001b[38;5;241m.\u001b[39mload_state_dict(\u001b[43mtorch\u001b[49m\u001b[38;5;241;43m.\u001b[39;49m\u001b[43mload\u001b[49m\u001b[43m(\u001b[49m\u001b[43mmodel_path\u001b[49m\u001b[43m,\u001b[49m\u001b[43m \u001b[49m\u001b[43mmap_location\u001b[49m\u001b[38;5;241;43m=\u001b[39;49m\u001b[43mdevice\u001b[49m\u001b[43m,\u001b[49m\u001b[43m \u001b[49m\u001b[43mweights_only\u001b[49m\u001b[38;5;241;43m=\u001b[39;49m\u001b[38;5;28;43;01mTrue\u001b[39;49;00m\u001b[43m)\u001b[49m)\n\u001b[0;32m    312\u001b[0m \u001b[38;5;66;03m# 将模型转移到指定设备\u001b[39;00m\n\u001b[0;32m    313\u001b[0m model \u001b[38;5;241m=\u001b[39m model\u001b[38;5;241m.\u001b[39mto(device)\n",
      "File \u001b[1;32md:\\python\\Lib\\site-packages\\torch\\serialization.py:1319\u001b[0m, in \u001b[0;36mload\u001b[1;34m(f, map_location, pickle_module, weights_only, mmap, **pickle_load_args)\u001b[0m\n\u001b[0;32m   1316\u001b[0m \u001b[38;5;28;01mif\u001b[39;00m \u001b[38;5;124m\"\u001b[39m\u001b[38;5;124mencoding\u001b[39m\u001b[38;5;124m\"\u001b[39m \u001b[38;5;129;01mnot\u001b[39;00m \u001b[38;5;129;01min\u001b[39;00m pickle_load_args\u001b[38;5;241m.\u001b[39mkeys():\n\u001b[0;32m   1317\u001b[0m     pickle_load_args[\u001b[38;5;124m\"\u001b[39m\u001b[38;5;124mencoding\u001b[39m\u001b[38;5;124m\"\u001b[39m] \u001b[38;5;241m=\u001b[39m \u001b[38;5;124m\"\u001b[39m\u001b[38;5;124mutf-8\u001b[39m\u001b[38;5;124m\"\u001b[39m\n\u001b[1;32m-> 1319\u001b[0m \u001b[38;5;28;01mwith\u001b[39;00m \u001b[43m_open_file_like\u001b[49m\u001b[43m(\u001b[49m\u001b[43mf\u001b[49m\u001b[43m,\u001b[49m\u001b[43m \u001b[49m\u001b[38;5;124;43m\"\u001b[39;49m\u001b[38;5;124;43mrb\u001b[39;49m\u001b[38;5;124;43m\"\u001b[39;49m\u001b[43m)\u001b[49m \u001b[38;5;28;01mas\u001b[39;00m opened_file:\n\u001b[0;32m   1320\u001b[0m     \u001b[38;5;28;01mif\u001b[39;00m _is_zipfile(opened_file):\n\u001b[0;32m   1321\u001b[0m         \u001b[38;5;66;03m# The zipfile reader is going to advance the current file position.\u001b[39;00m\n\u001b[0;32m   1322\u001b[0m         \u001b[38;5;66;03m# If we want to actually tail call to torch.jit.load, we need to\u001b[39;00m\n\u001b[0;32m   1323\u001b[0m         \u001b[38;5;66;03m# reset back to the original position.\u001b[39;00m\n\u001b[0;32m   1324\u001b[0m         orig_position \u001b[38;5;241m=\u001b[39m opened_file\u001b[38;5;241m.\u001b[39mtell()\n",
      "File \u001b[1;32md:\\python\\Lib\\site-packages\\torch\\serialization.py:659\u001b[0m, in \u001b[0;36m_open_file_like\u001b[1;34m(name_or_buffer, mode)\u001b[0m\n\u001b[0;32m    657\u001b[0m \u001b[38;5;28;01mdef\u001b[39;00m \u001b[38;5;21m_open_file_like\u001b[39m(name_or_buffer, mode):\n\u001b[0;32m    658\u001b[0m     \u001b[38;5;28;01mif\u001b[39;00m _is_path(name_or_buffer):\n\u001b[1;32m--> 659\u001b[0m         \u001b[38;5;28;01mreturn\u001b[39;00m \u001b[43m_open_file\u001b[49m\u001b[43m(\u001b[49m\u001b[43mname_or_buffer\u001b[49m\u001b[43m,\u001b[49m\u001b[43m \u001b[49m\u001b[43mmode\u001b[49m\u001b[43m)\u001b[49m\n\u001b[0;32m    660\u001b[0m     \u001b[38;5;28;01melse\u001b[39;00m:\n\u001b[0;32m    661\u001b[0m         \u001b[38;5;28;01mif\u001b[39;00m \u001b[38;5;124m\"\u001b[39m\u001b[38;5;124mw\u001b[39m\u001b[38;5;124m\"\u001b[39m \u001b[38;5;129;01min\u001b[39;00m mode:\n",
      "File \u001b[1;32md:\\python\\Lib\\site-packages\\torch\\serialization.py:640\u001b[0m, in \u001b[0;36m_open_file.__init__\u001b[1;34m(self, name, mode)\u001b[0m\n\u001b[0;32m    639\u001b[0m \u001b[38;5;28;01mdef\u001b[39;00m \u001b[38;5;21m__init__\u001b[39m(\u001b[38;5;28mself\u001b[39m, name, mode):\n\u001b[1;32m--> 640\u001b[0m     \u001b[38;5;28msuper\u001b[39m()\u001b[38;5;241m.\u001b[39m\u001b[38;5;21m__init__\u001b[39m(\u001b[38;5;28;43mopen\u001b[39;49m\u001b[43m(\u001b[49m\u001b[43mname\u001b[49m\u001b[43m,\u001b[49m\u001b[43m \u001b[49m\u001b[43mmode\u001b[49m\u001b[43m)\u001b[49m)\n",
      "\u001b[1;31mFileNotFoundError\u001b[0m: [Errno 2] No such file or directory: 'models/UnetTrain/overlaping_unet_segmentation_try4.2.2L_random_iou.pth'"
     ]
    }
   ],
   "source": [
    "# 处理特定图像列表\n",
    "image_list = [\"img1.png\", \"img2.png\", \"img3.png\"]\n",
    "mask_list = [\"mask1.png\", \"mask2.png\", \"mask3.png\"]\n",
    "\n",
    "results = batch_segmentation_pipeline(\n",
    "    model_path=\"models/UnetTrain/overlaping_unet_segmentation_try4.2.2L_random_iou.pth\",\n",
    "    image_paths=image_list,\n",
    "    mask_paths=mask_list,\n",
    "    save_dir=\"test/batch_predictData\",\n",
    "    patch_size=256,\n",
    "    stride=128,\n",
    "    value=-30,\n",
    "    alpha=1.0\n",
    ")"
   ]
  },
  {
   "cell_type": "markdown",
   "metadata": {},
   "source": [
    "### 批处理测试model效果，并保存结果同时生成对应的文件(可用，速度一般,1张图大概6s左右)"
   ]
  },
  {
   "cell_type": "code",
   "execution_count": 2,
   "metadata": {},
   "outputs": [
    {
     "name": "stdout",
     "output_type": "stream",
     "text": [
      "\n",
      "开始处理 165 个样本...\n",
      "\n",
      "\n",
      " 处理进度 1/165: mask0000\n",
      "\n",
      "=== 处理图像: mask0000 ===\n",
      "设备: cuda, 模型: overlaping_unet_segmentation_try4.13k_random2_iou.pth\n",
      "Patch尺寸: 256, 步长: 128\n",
      "评估指标: IoU=0.8138, Dice=0.8974\n",
      "二值化前的图像范围: 0-255\n",
      "二值化阈值: 127\n",
      "二值化后白色像素数: 67913\n",
      "denoise评估结果: IoU=0.8108, Dice=0.8955\n",
      "\n",
      "\n",
      " 处理进度 2/165: mask0001\n",
      "\n",
      "=== 处理图像: mask0001 ===\n",
      "设备: cuda, 模型: overlaping_unet_segmentation_try4.13k_random2_iou.pth\n",
      "Patch尺寸: 256, 步长: 128\n",
      "评估指标: IoU=0.8213, Dice=0.9019\n",
      "二值化前的图像范围: 0-255\n",
      "二值化阈值: 127\n",
      "二值化后白色像素数: 69780\n",
      "denoise评估结果: IoU=0.8211, Dice=0.9018\n",
      "\n",
      "\n",
      " 处理进度 3/165: mask0002\n",
      "\n",
      "=== 处理图像: mask0002 ===\n",
      "设备: cuda, 模型: overlaping_unet_segmentation_try4.13k_random2_iou.pth\n",
      "Patch尺寸: 256, 步长: 128\n",
      "评估指标: IoU=0.8003, Dice=0.8891\n",
      "二值化前的图像范围: 0-255\n",
      "二值化阈值: 127\n",
      "二值化后白色像素数: 66826\n",
      "denoise评估结果: IoU=0.7918, Dice=0.8838\n",
      "\n",
      "\n",
      " 处理进度 4/165: mask0003\n",
      "\n",
      "=== 处理图像: mask0003 ===\n",
      "设备: cuda, 模型: overlaping_unet_segmentation_try4.13k_random2_iou.pth\n",
      "Patch尺寸: 256, 步长: 128\n",
      "评估指标: IoU=0.7660, Dice=0.8675\n",
      "二值化前的图像范围: 0-255\n",
      "二值化阈值: 127\n",
      "二值化后白色像素数: 65419\n",
      "denoise评估结果: IoU=0.7633, Dice=0.8658\n",
      "\n",
      "\n",
      " 处理进度 5/165: mask0004\n",
      "\n",
      "=== 处理图像: mask0004 ===\n",
      "设备: cuda, 模型: overlaping_unet_segmentation_try4.13k_random2_iou.pth\n",
      "Patch尺寸: 256, 步长: 128\n",
      "评估指标: IoU=0.7230, Dice=0.8392\n",
      "二值化前的图像范围: 0-255\n",
      "二值化阈值: 127\n",
      "二值化后白色像素数: 61498\n",
      "denoise评估结果: IoU=0.7169, Dice=0.8351\n",
      "\n",
      "\n",
      " 处理进度 6/165: mask0005\n",
      "\n",
      "=== 处理图像: mask0005 ===\n",
      "设备: cuda, 模型: overlaping_unet_segmentation_try4.13k_random2_iou.pth\n",
      "Patch尺寸: 256, 步长: 128\n",
      "评估指标: IoU=0.7587, Dice=0.8628\n",
      "二值化前的图像范围: 0-255\n",
      "二值化阈值: 127\n",
      "二值化后白色像素数: 63604\n",
      "denoise评估结果: IoU=0.7462, Dice=0.8547\n",
      "\n",
      "\n",
      " 处理进度 7/165: mask0006\n",
      "\n",
      "=== 处理图像: mask0006 ===\n",
      "设备: cuda, 模型: overlaping_unet_segmentation_try4.13k_random2_iou.pth\n",
      "Patch尺寸: 256, 步长: 128\n",
      "评估指标: IoU=0.7598, Dice=0.8635\n",
      "二值化前的图像范围: 0-255\n",
      "二值化阈值: 127\n",
      "二值化后白色像素数: 62707\n",
      "denoise评估结果: IoU=0.7528, Dice=0.8589\n",
      "\n",
      "\n",
      " 处理进度 8/165: mask0007\n",
      "\n",
      "=== 处理图像: mask0007 ===\n",
      "设备: cuda, 模型: overlaping_unet_segmentation_try4.13k_random2_iou.pth\n",
      "Patch尺寸: 256, 步长: 128\n",
      "评估指标: IoU=0.7595, Dice=0.8633\n",
      "二值化前的图像范围: 0-255\n",
      "二值化阈值: 127\n",
      "二值化后白色像素数: 61716\n",
      "denoise评估结果: IoU=0.7486, Dice=0.8562\n"
     ]
    },
    {
     "ename": "",
     "evalue": "",
     "output_type": "error",
     "traceback": [
      "\u001b[1;31m在当前单元格或上一个单元格中执行代码时 Kernel 崩溃。\n",
      "\u001b[1;31m请查看单元格中的代码，以确定故障的可能原因。\n",
      "\u001b[1;31m单击<a href='https://aka.ms/vscodeJupyterKernelCrash'>此处</a>了解详细信息。\n",
      "\u001b[1;31m有关更多详细信息，请查看 Jupyter <a href='command:jupyter.viewOutput'>log</a>。"
     ]
    }
   ],
   "source": [
    "# 处理整个目录\n",
    "results = batch_segmentation_pipeline(\n",
    "    model_path=\"models/UnetTrain/overlaping_unet_segmentation_try4.13k_random2_iou.pth\",\n",
    "    image_paths=\"dataset/Lucchi++/Test_In\",  # 图像目录\n",
    "    mask_paths=\"dataset/Lucchi++/Test_Out\",  # 掩码目录\n",
    "    save_dir=\"test/batch_predictData\",\n",
    "    patch_size=256,\n",
    "    stride=128,\n",
    "    value=-30,\n",
    "    alpha=1.0\n",
    ")"
   ]
  },
  {
   "cell_type": "markdown",
   "metadata": {},
   "source": [
    "4.13遇到的问题：\n",
    " 首先是K测L的泛化很低，因为之前只是针对单张图片导致我错判以为IoU很高，实际上只有0.08\n",
    " 太低了，然后我尝试在分析情况发现一个问题，就是equalization带来的影响很大，甚至可以说直方图的均值后的分布直接决定了Iou，也就是说我equalization大概率写的不好，导致它均值的时候对不同图片效果不同，简单来说那几张很特殊IOU很高的图，它们的均值图都是很平均的一条线，而其它的图军之后基本跟原本的直方图分布差不多。。"
   ]
  },
  {
   "cell_type": "markdown",
   "metadata": {},
   "source": [
    "批量重命名文件"
   ]
  },
  {
   "cell_type": "code",
   "execution_count": 2,
   "metadata": {},
   "outputs": [
    {
     "name": "stdout",
     "output_type": "stream",
     "text": [
      "已重命名: 10.png -> mask0010.png\n",
      "已重命名: 100.png -> mask0100.png\n",
      "已重命名: 101.png -> mask0101.png\n",
      "已重命名: 102.png -> mask0102.png\n",
      "已重命名: 103.png -> mask0103.png\n",
      "已重命名: 104.png -> mask0104.png\n",
      "已重命名: 105.png -> mask0105.png\n",
      "已重命名: 106.png -> mask0106.png\n",
      "已重命名: 107.png -> mask0107.png\n",
      "已重命名: 108.png -> mask0108.png\n",
      "已重命名: 109.png -> mask0109.png\n",
      "已重命名: 11.png -> mask0011.png\n",
      "已重命名: 110.png -> mask0110.png\n",
      "已重命名: 111.png -> mask0111.png\n",
      "已重命名: 112.png -> mask0112.png\n",
      "已重命名: 113.png -> mask0113.png\n",
      "已重命名: 114.png -> mask0114.png\n",
      "已重命名: 115.png -> mask0115.png\n",
      "已重命名: 116.png -> mask0116.png\n",
      "已重命名: 117.png -> mask0117.png\n",
      "已重命名: 118.png -> mask0118.png\n",
      "已重命名: 119.png -> mask0119.png\n",
      "已重命名: 12.png -> mask0012.png\n",
      "已重命名: 120.png -> mask0120.png\n",
      "已重命名: 121.png -> mask0121.png\n",
      "已重命名: 122.png -> mask0122.png\n",
      "已重命名: 123.png -> mask0123.png\n",
      "已重命名: 124.png -> mask0124.png\n",
      "已重命名: 125.png -> mask0125.png\n",
      "已重命名: 126.png -> mask0126.png\n",
      "已重命名: 127.png -> mask0127.png\n",
      "已重命名: 128.png -> mask0128.png\n",
      "已重命名: 129.png -> mask0129.png\n",
      "已重命名: 13.png -> mask0013.png\n",
      "已重命名: 130.png -> mask0130.png\n",
      "已重命名: 131.png -> mask0131.png\n",
      "已重命名: 132.png -> mask0132.png\n",
      "已重命名: 133.png -> mask0133.png\n",
      "已重命名: 134.png -> mask0134.png\n",
      "已重命名: 135.png -> mask0135.png\n",
      "已重命名: 136.png -> mask0136.png\n",
      "已重命名: 137.png -> mask0137.png\n",
      "已重命名: 138.png -> mask0138.png\n",
      "已重命名: 139.png -> mask0139.png\n",
      "已重命名: 14.png -> mask0014.png\n",
      "已重命名: 140.png -> mask0140.png\n",
      "已重命名: 141.png -> mask0141.png\n",
      "已重命名: 142.png -> mask0142.png\n",
      "已重命名: 143.png -> mask0143.png\n",
      "已重命名: 144.png -> mask0144.png\n",
      "已重命名: 145.png -> mask0145.png\n",
      "已重命名: 146.png -> mask0146.png\n",
      "已重命名: 147.png -> mask0147.png\n",
      "已重命名: 148.png -> mask0148.png\n",
      "已重命名: 149.png -> mask0149.png\n",
      "已重命名: 15.png -> mask0015.png\n",
      "已重命名: 150.png -> mask0150.png\n",
      "已重命名: 151.png -> mask0151.png\n",
      "已重命名: 152.png -> mask0152.png\n",
      "已重命名: 153.png -> mask0153.png\n",
      "已重命名: 154.png -> mask0154.png\n",
      "已重命名: 155.png -> mask0155.png\n",
      "已重命名: 156.png -> mask0156.png\n",
      "已重命名: 157.png -> mask0157.png\n",
      "已重命名: 158.png -> mask0158.png\n",
      "已重命名: 159.png -> mask0159.png\n",
      "已重命名: 16.png -> mask0016.png\n",
      "已重命名: 160.png -> mask0160.png\n",
      "已重命名: 161.png -> mask0161.png\n",
      "已重命名: 162.png -> mask0162.png\n",
      "已重命名: 163.png -> mask0163.png\n",
      "已重命名: 164.png -> mask0164.png\n",
      "已重命名: 17.png -> mask0017.png\n",
      "已重命名: 18.png -> mask0018.png\n",
      "已重命名: 19.png -> mask0019.png\n",
      "已重命名: 20.png -> mask0020.png\n",
      "已重命名: 21.png -> mask0021.png\n",
      "已重命名: 22.png -> mask0022.png\n",
      "已重命名: 23.png -> mask0023.png\n",
      "已重命名: 24.png -> mask0024.png\n",
      "已重命名: 25.png -> mask0025.png\n",
      "已重命名: 26.png -> mask0026.png\n",
      "已重命名: 27.png -> mask0027.png\n",
      "已重命名: 28.png -> mask0028.png\n",
      "已重命名: 29.png -> mask0029.png\n",
      "已重命名: 30.png -> mask0030.png\n",
      "已重命名: 31.png -> mask0031.png\n",
      "已重命名: 32.png -> mask0032.png\n",
      "已重命名: 33.png -> mask0033.png\n",
      "已重命名: 34.png -> mask0034.png\n",
      "已重命名: 35.png -> mask0035.png\n",
      "已重命名: 36.png -> mask0036.png\n",
      "已重命名: 37.png -> mask0037.png\n",
      "已重命名: 38.png -> mask0038.png\n",
      "已重命名: 39.png -> mask0039.png\n",
      "已重命名: 40.png -> mask0040.png\n",
      "已重命名: 41.png -> mask0041.png\n",
      "已重命名: 42.png -> mask0042.png\n",
      "已重命名: 43.png -> mask0043.png\n",
      "已重命名: 44.png -> mask0044.png\n",
      "已重命名: 45.png -> mask0045.png\n",
      "已重命名: 46.png -> mask0046.png\n",
      "已重命名: 47.png -> mask0047.png\n",
      "已重命名: 48.png -> mask0048.png\n",
      "已重命名: 49.png -> mask0049.png\n",
      "已重命名: 50.png -> mask0050.png\n",
      "已重命名: 51.png -> mask0051.png\n",
      "已重命名: 52.png -> mask0052.png\n",
      "已重命名: 53.png -> mask0053.png\n",
      "已重命名: 54.png -> mask0054.png\n",
      "已重命名: 55.png -> mask0055.png\n",
      "已重命名: 56.png -> mask0056.png\n",
      "已重命名: 57.png -> mask0057.png\n",
      "已重命名: 58.png -> mask0058.png\n",
      "已重命名: 59.png -> mask0059.png\n",
      "已重命名: 60.png -> mask0060.png\n",
      "已重命名: 61.png -> mask0061.png\n",
      "已重命名: 62.png -> mask0062.png\n",
      "已重命名: 63.png -> mask0063.png\n",
      "已重命名: 64.png -> mask0064.png\n",
      "已重命名: 65.png -> mask0065.png\n",
      "已重命名: 66.png -> mask0066.png\n",
      "已重命名: 67.png -> mask0067.png\n",
      "已重命名: 68.png -> mask0068.png\n",
      "已重命名: 69.png -> mask0069.png\n",
      "已重命名: 7.png -> mask0007.png\n",
      "已重命名: 70.png -> mask0070.png\n",
      "已重命名: 71.png -> mask0071.png\n",
      "已重命名: 72.png -> mask0072.png\n",
      "已重命名: 73.png -> mask0073.png\n",
      "已重命名: 74.png -> mask0074.png\n",
      "已重命名: 75.png -> mask0075.png\n",
      "已重命名: 76.png -> mask0076.png\n",
      "已重命名: 77.png -> mask0077.png\n",
      "已重命名: 78.png -> mask0078.png\n",
      "已重命名: 79.png -> mask0079.png\n",
      "已重命名: 8.png -> mask0008.png\n",
      "已重命名: 80.png -> mask0080.png\n",
      "已重命名: 81.png -> mask0081.png\n",
      "已重命名: 82.png -> mask0082.png\n",
      "已重命名: 83.png -> mask0083.png\n",
      "已重命名: 84.png -> mask0084.png\n",
      "已重命名: 85.png -> mask0085.png\n",
      "已重命名: 86.png -> mask0086.png\n",
      "已重命名: 87.png -> mask0087.png\n",
      "已重命名: 88.png -> mask0088.png\n",
      "已重命名: 89.png -> mask0089.png\n",
      "已重命名: 9.png -> mask0009.png\n",
      "已重命名: 90.png -> mask0090.png\n",
      "已重命名: 91.png -> mask0091.png\n",
      "已重命名: 92.png -> mask0092.png\n",
      "已重命名: 93.png -> mask0093.png\n",
      "已重命名: 94.png -> mask0094.png\n",
      "已重命名: 95.png -> mask0095.png\n",
      "已重命名: 96.png -> mask0096.png\n",
      "已重命名: 97.png -> mask0097.png\n",
      "已重命名: 98.png -> mask0098.png\n",
      "已重命名: 99.png -> mask0099.png\n",
      "所有文件重命名完成！\n"
     ]
    }
   ],
   "source": [
    "import os\n",
    "import re\n",
    "\n",
    "def rename_files_with_padded_numbers(folder_path, prefix=\"mask\"):\n",
    "    \"\"\"\n",
    "    将文件夹内的数字文件名重命名为带前缀和补零格式\n",
    "    \n",
    "    参数:\n",
    "        folder_path (str): 目标文件夹路径\n",
    "        prefix (str): 要添加的前缀（默认为\"mask\"）\n",
    "    \"\"\"\n",
    "    for filename in os.listdir(folder_path):\n",
    "        old_path = os.path.join(folder_path, filename)\n",
    "        \n",
    "        if os.path.isfile(old_path):\n",
    "            # 使用正则表达式提取数字部分\n",
    "            match = re.match(r'^(\\d+)\\.(.*?)$', filename)\n",
    "            if match:\n",
    "                number = match.group(1)\n",
    "                ext = match.group(2)\n",
    "                \n",
    "                # 将数字转为4位数（前面补零）\n",
    "                padded_number = f\"{int(number):04d}\"\n",
    "                \n",
    "                # 新文件名\n",
    "                new_filename = f\"{prefix}{padded_number}.{ext}\"\n",
    "                new_path = os.path.join(folder_path, new_filename)\n",
    "                \n",
    "                # 重命名文件\n",
    "                os.rename(old_path, new_path)\n",
    "                print(f\"已重命名: {filename} -> {new_filename}\")\n",
    "\n",
    "if __name__ == \"__main__\":\n",
    "    folder = \"dataset/Lucchi++/Test_Out\"\n",
    "    prefix = input(\"请输入要添加的前缀(默认为'mask'，直接回车使用默认值): \") or \"mask\"\n",
    "    \n",
    "    rename_files_with_padded_numbers(folder, prefix)\n",
    "    print(\"所有文件重命名完成！\")"
   ]
  }
 ],
 "metadata": {
  "kernelspec": {
   "display_name": "Python 3",
   "language": "python",
   "name": "python3"
  },
  "language_info": {
   "codemirror_mode": {
    "name": "ipython",
    "version": 3
   },
   "file_extension": ".py",
   "mimetype": "text/x-python",
   "name": "python",
   "nbconvert_exporter": "python",
   "pygments_lexer": "ipython3",
   "version": "3.11.5"
  }
 },
 "nbformat": 4,
 "nbformat_minor": 2
}
